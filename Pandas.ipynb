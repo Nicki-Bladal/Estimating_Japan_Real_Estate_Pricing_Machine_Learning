{
 "cells": [
  {
   "cell_type": "markdown",
   "metadata": {},
   "source": [
    "Import\n",
    "-"
   ]
  },
  {
   "cell_type": "code",
   "execution_count": 1,
   "metadata": {},
   "outputs": [],
   "source": [
    "#Getting the lib\n",
    "import pandas as pd"
   ]
  },
  {
   "cell_type": "markdown",
   "metadata": {},
   "source": [
    "Creation of Dataframes\n",
    "-"
   ]
  },
  {
   "cell_type": "code",
   "execution_count": 2,
   "metadata": {},
   "outputs": [
    {
     "output_type": "execute_result",
     "data": {
      "text/plain": "2015 Sales    30\n2016 Sales    35\n2017 Sales    40\ndtype: int64"
     },
     "metadata": {},
     "execution_count": 2
    }
   ],
   "source": [
    "#Series - https://pandas.pydata.org/pandas-docs/stable/reference/api/pandas.Series.html\n",
    "pd.Series([30, 35, 40], index=['2015 Sales', '2016 Sales', '2017 Sales'])"
   ]
  },
  {
   "cell_type": "code",
   "execution_count": 3,
   "metadata": {},
   "outputs": [
    {
     "output_type": "execute_result",
     "data": {
      "text/plain": "                     Bob           Sue\nProduct A    I liked it.  Pretty good.\nProduct B  It was awful.        Bland.",
      "text/html": "<div>\n<style scoped>\n    .dataframe tbody tr th:only-of-type {\n        vertical-align: middle;\n    }\n\n    .dataframe tbody tr th {\n        vertical-align: top;\n    }\n\n    .dataframe thead th {\n        text-align: right;\n    }\n</style>\n<table border=\"1\" class=\"dataframe\">\n  <thead>\n    <tr style=\"text-align: right;\">\n      <th></th>\n      <th>Bob</th>\n      <th>Sue</th>\n    </tr>\n  </thead>\n  <tbody>\n    <tr>\n      <th>Product A</th>\n      <td>I liked it.</td>\n      <td>Pretty good.</td>\n    </tr>\n    <tr>\n      <th>Product B</th>\n      <td>It was awful.</td>\n      <td>Bland.</td>\n    </tr>\n  </tbody>\n</table>\n</div>"
     },
     "metadata": {},
     "execution_count": 3
    }
   ],
   "source": [
    "#Dataframes - https://pandas.pydata.org/pandas-docs/stable/reference/api/pandas.DataFrame.html \n",
    "pd.DataFrame({'Bob': ['I liked it.', 'It was awful.'], \n",
    "              'Sue': ['Pretty good.', 'Bland.']},\n",
    "             index=['Product A', 'Product B'])"
   ]
  },
  {
   "cell_type": "markdown",
   "metadata": {},
   "source": [
    "Import Data, check data and export data\n",
    "-"
   ]
  },
  {
   "cell_type": "code",
   "execution_count": 4,
   "metadata": {},
   "outputs": [],
   "source": [
    "#From local CSV\n",
    "my_local_data = pd.read_csv(\"file://localhost/users/nicki/desktop/udvikling/python/data/winemag-data-130k-v2.csv\", index_col=0)\n",
    "\n",
    "#From URL\n",
    "my_web_data=pd.read_csv(\"https://apps.who.int/gho/athena/data/GHO/NCD_BMI_30A?filter=AGEGROUP:*;COUNTRY:*;SEX:*&x-sideaxis=COUNTRY&x-topaxis=YEAR;GHO;AGEGROUP;SEX&profile=crosstable&format=csv\")\n"
   ]
  },
  {
   "cell_type": "code",
   "execution_count": 5,
   "metadata": {
    "tags": []
   },
   "outputs": [
    {
     "output_type": "stream",
     "name": "stdout",
     "text": "(198, 127)\n"
    },
    {
     "output_type": "execute_result",
     "data": {
      "text/plain": "       Unnamed: 0     2016   2016.1   2016.2     2015   2015.1   2015.2  \\\ncount         196      198      198      198      198      198      198   \nunique        196      192      195      195      194      194      195   \ntop        Kuwait  No data  No data  No data  No data  No data  No data   \nfreq            1        4        4        4        4        4        4   \n\n           2014   2014.1   2014.2  ...   1978.2     1977         1977.1  \\\ncount       198      198      198  ...      198      198            198   \nunique      194      193      194  ...      192      184            164   \ntop     No data  No data  No data  ...  No data  No data  0.2 [0.0-0.7]   \nfreq          4        4        4  ...        4        4              6   \n\n         1977.2     1976         1976.1   1976.2           1975  \\\ncount       198      198            198      198            198   \nunique      185      183            161      190            177   \ntop     No data  No data  0.2 [0.0-0.7]  No data  0.5 [0.2-1.1]   \nfreq          4        4              7        4              4   \n\n               1975.1   1975.2  \ncount             198      198  \nunique            155      185  \ntop     0.4 [0.1-1.2]  No data  \nfreq                7        4  \n\n[4 rows x 127 columns]",
      "text/html": "<div>\n<style scoped>\n    .dataframe tbody tr th:only-of-type {\n        vertical-align: middle;\n    }\n\n    .dataframe tbody tr th {\n        vertical-align: top;\n    }\n\n    .dataframe thead th {\n        text-align: right;\n    }\n</style>\n<table border=\"1\" class=\"dataframe\">\n  <thead>\n    <tr style=\"text-align: right;\">\n      <th></th>\n      <th>Unnamed: 0</th>\n      <th>2016</th>\n      <th>2016.1</th>\n      <th>2016.2</th>\n      <th>2015</th>\n      <th>2015.1</th>\n      <th>2015.2</th>\n      <th>2014</th>\n      <th>2014.1</th>\n      <th>2014.2</th>\n      <th>...</th>\n      <th>1978.2</th>\n      <th>1977</th>\n      <th>1977.1</th>\n      <th>1977.2</th>\n      <th>1976</th>\n      <th>1976.1</th>\n      <th>1976.2</th>\n      <th>1975</th>\n      <th>1975.1</th>\n      <th>1975.2</th>\n    </tr>\n  </thead>\n  <tbody>\n    <tr>\n      <th>count</th>\n      <td>196</td>\n      <td>198</td>\n      <td>198</td>\n      <td>198</td>\n      <td>198</td>\n      <td>198</td>\n      <td>198</td>\n      <td>198</td>\n      <td>198</td>\n      <td>198</td>\n      <td>...</td>\n      <td>198</td>\n      <td>198</td>\n      <td>198</td>\n      <td>198</td>\n      <td>198</td>\n      <td>198</td>\n      <td>198</td>\n      <td>198</td>\n      <td>198</td>\n      <td>198</td>\n    </tr>\n    <tr>\n      <th>unique</th>\n      <td>196</td>\n      <td>192</td>\n      <td>195</td>\n      <td>195</td>\n      <td>194</td>\n      <td>194</td>\n      <td>195</td>\n      <td>194</td>\n      <td>193</td>\n      <td>194</td>\n      <td>...</td>\n      <td>192</td>\n      <td>184</td>\n      <td>164</td>\n      <td>185</td>\n      <td>183</td>\n      <td>161</td>\n      <td>190</td>\n      <td>177</td>\n      <td>155</td>\n      <td>185</td>\n    </tr>\n    <tr>\n      <th>top</th>\n      <td>Kuwait</td>\n      <td>No data</td>\n      <td>No data</td>\n      <td>No data</td>\n      <td>No data</td>\n      <td>No data</td>\n      <td>No data</td>\n      <td>No data</td>\n      <td>No data</td>\n      <td>No data</td>\n      <td>...</td>\n      <td>No data</td>\n      <td>No data</td>\n      <td>0.2 [0.0-0.7]</td>\n      <td>No data</td>\n      <td>No data</td>\n      <td>0.2 [0.0-0.7]</td>\n      <td>No data</td>\n      <td>0.5 [0.2-1.1]</td>\n      <td>0.4 [0.1-1.2]</td>\n      <td>No data</td>\n    </tr>\n    <tr>\n      <th>freq</th>\n      <td>1</td>\n      <td>4</td>\n      <td>4</td>\n      <td>4</td>\n      <td>4</td>\n      <td>4</td>\n      <td>4</td>\n      <td>4</td>\n      <td>4</td>\n      <td>4</td>\n      <td>...</td>\n      <td>4</td>\n      <td>4</td>\n      <td>6</td>\n      <td>4</td>\n      <td>4</td>\n      <td>7</td>\n      <td>4</td>\n      <td>4</td>\n      <td>7</td>\n      <td>4</td>\n    </tr>\n  </tbody>\n</table>\n<p>4 rows × 127 columns</p>\n</div>"
     },
     "metadata": {},
     "execution_count": 5
    }
   ],
   "source": [
    "#quick overview\n",
    "print(my_web_data.shape)\n",
    "my_web_data.head()\n",
    "my_web_data.describe()"
   ]
  },
  {
   "cell_type": "code",
   "execution_count": 6,
   "metadata": {},
   "outputs": [],
   "source": [
    "# Choosing a colum for index:\n",
    "#some_df.set_index(\"colum_name\",)\n",
    "\n",
    "# renaming the index and collums (\"colum index\")\n",
    "#some_df.index.names = ['index_title']\n",
    "#some_df.columns.names = ['colums_title']"
   ]
  },
  {
   "cell_type": "code",
   "execution_count": 7,
   "metadata": {},
   "outputs": [],
   "source": [
    "#Converting csv to dataframe\n",
    "my_local_df=pd.DataFrame(my_local_data)"
   ]
  },
  {
   "cell_type": "code",
   "execution_count": 8,
   "metadata": {},
   "outputs": [],
   "source": [
    "#Saving data locally in working dir\n",
    "my_web_data.to_csv(\"data_from_web.csv\")"
   ]
  },
  {
   "cell_type": "markdown",
   "metadata": {},
   "source": [
    "Simple Data Access\n",
    "-"
   ]
  },
  {
   "cell_type": "code",
   "execution_count": 9,
   "metadata": {
    "tags": []
   },
   "outputs": [
    {
     "output_type": "stream",
     "name": "stdout",
     "text": "Portugal\nUS\n0            Italy\n1         Portugal\n2               US\n3               US\n4               US\n            ...   \n129966     Germany\n129967          US\n129968      France\n129969      France\n129970      France\nName: country, Length: 129971, dtype: object\n0         87\n1         87\n2         87\n3         87\n4         87\n          ..\n129966    90\n129967    90\n129968    90\n129969    90\n129970    90\nName: points, Length: 129971, dtype: int64\n"
    }
   ],
   "source": [
    "#Access single values.\n",
    "print(my_local_df[\"country\"][1])\n",
    "print(my_local_df.country[2])\n",
    "\n",
    "# Accessing all values in a collum (attribute)\n",
    "print(my_local_df.country)\n",
    "print(my_local_df[\"points\"])"
   ]
  },
  {
   "cell_type": "markdown",
   "metadata": {},
   "source": [
    "Index-based selection iloc\n",
    "-"
   ]
  },
  {
   "cell_type": "code",
   "execution_count": 10,
   "metadata": {
    "tags": []
   },
   "outputs": [
    {
     "output_type": "stream",
     "name": "stdout",
     "text": "country                                                              Italy\ndescription              Aromas include tropical fruit, broom, brimston...\ndesignation                                                   Vulkà Bianco\npoints                                                                  87\nprice                                                                  NaN\nprovince                                                 Sicily & Sardinia\nregion_1                                                              Etna\nregion_2                                                               NaN\ntaster_name                                                  Kerin O’Keefe\ntaster_twitter_handle                                         @kerinokeefe\ntitle                                    Nicosia 2013 Vulkà Bianco  (Etna)\nvariety                                                        White Blend\nwinery                                                             Nicosia\nName: 0, dtype: object\n"
    }
   ],
   "source": [
    "# Both loc and iloc are row-first, column-second.\n",
    "#When we use iloc we treat the dataset like a big matrix (a list of lists), one that we have to index into by position.\n",
    "# To select the first row of data in a DataFrame, we may use the following:\n",
    "print(my_local_df.iloc[0])"
   ]
  },
  {
   "cell_type": "code",
   "execution_count": 11,
   "metadata": {
    "tags": []
   },
   "outputs": [
    {
     "output_type": "stream",
     "name": "stdout",
     "text": "0            Italy\n1         Portugal\n2               US\n3               US\n4               US\n            ...   \n129966     Germany\n129967          US\n129968      France\n129969      France\n129970      France\nName: country, Length: 129971, dtype: object\n"
    }
   ],
   "source": [
    "# It is marginally harder to get retrieve columns. To get a column with iloc, we can do the following:\n",
    "print(my_local_df.iloc[0:, 0])"
   ]
  },
  {
   "cell_type": "code",
   "execution_count": 12,
   "metadata": {},
   "outputs": [
    {
     "output_type": "execute_result",
     "data": {
      "text/plain": "0        Italy\n1     Portugal\n10          US\nName: country, dtype: object"
     },
     "metadata": {},
     "execution_count": 12
    }
   ],
   "source": [
    "#It's also possible to pass a list:\n",
    "my_local_df.iloc[[0, 1, 10], 0]"
   ]
  },
  {
   "cell_type": "markdown",
   "metadata": {},
   "source": [
    "Label-based selection loc\n",
    "-"
   ]
  },
  {
   "cell_type": "code",
   "execution_count": 13,
   "metadata": {
    "tags": []
   },
   "outputs": [
    {
     "output_type": "stream",
     "name": "stdout",
     "text": "Italy\n"
    }
   ],
   "source": [
    "# loc operator: label-based selection. In this paradigm, it's the data index value, not its position, which matters.\n",
    "# Get the first entry in reviews\n",
    "print(my_local_df.loc[0, 'country'])\n"
   ]
  },
  {
   "cell_type": "code",
   "execution_count": 14,
   "metadata": {},
   "outputs": [
    {
     "output_type": "execute_result",
     "data": {
      "text/plain": "     taster_name taster_twitter_handle  points\n0  Kerin O’Keefe          @kerinokeefe      87\n1     Roger Voss            @vossroger      87\n2   Paul Gregutt           @paulgwine       87",
      "text/html": "<div>\n<style scoped>\n    .dataframe tbody tr th:only-of-type {\n        vertical-align: middle;\n    }\n\n    .dataframe tbody tr th {\n        vertical-align: top;\n    }\n\n    .dataframe thead th {\n        text-align: right;\n    }\n</style>\n<table border=\"1\" class=\"dataframe\">\n  <thead>\n    <tr style=\"text-align: right;\">\n      <th></th>\n      <th>taster_name</th>\n      <th>taster_twitter_handle</th>\n      <th>points</th>\n    </tr>\n  </thead>\n  <tbody>\n    <tr>\n      <th>0</th>\n      <td>Kerin O’Keefe</td>\n      <td>@kerinokeefe</td>\n      <td>87</td>\n    </tr>\n    <tr>\n      <th>1</th>\n      <td>Roger Voss</td>\n      <td>@vossroger</td>\n      <td>87</td>\n    </tr>\n    <tr>\n      <th>2</th>\n      <td>Paul Gregutt</td>\n      <td>@paulgwine</td>\n      <td>87</td>\n    </tr>\n  </tbody>\n</table>\n</div>"
     },
     "metadata": {},
     "execution_count": 14
    }
   ],
   "source": [
    "#loc, by contrast, uses the information in the indices to do its work. Since your dataset usually has meaningful indices, it's usually easier to do things using loc instead. For example, here's one operation that's much easier using loc:\n",
    "my_local_df.loc[0:2, ['taster_name', 'taster_twitter_handle', 'points']]"
   ]
  },
  {
   "cell_type": "code",
   "execution_count": 15,
   "metadata": {},
   "outputs": [],
   "source": [
    "# Choosing between loc and iloc\n",
    "\n",
    "# When choosing or transitioning between loc and iloc, there is one \"gotcha\" worth keeping in mind, which is that the two methods use slightly different indexing schemes.\n",
    "\n",
    "# iloc uses the Python stdlib indexing scheme, where the first element of the range is included and the last one excluded. So 0:10 will select entries 0,...,9. loc, meanwhile, indexes inclusively. So 0:10 will select entries 0,...,10.\n",
    "\n",
    "\n",
    "# This is particularly confusing when the DataFrame index is a simple numerical list, e.g. 0,...,1000. In this case df.iloc[0:1000] will return 1000 entries, while df.loc[0:1000] return 1001 of them! To get 1000 elements using loc, you will need to go one lower and ask for df.loc[0:999].\n",
    "\n",
    "# Otherwise, the semantics of using loc are the same as those for iloc."
   ]
  },
  {
   "cell_type": "markdown",
   "metadata": {},
   "source": [
    "Conditional Selection\n",
    "-"
   ]
  },
  {
   "cell_type": "code",
   "execution_count": 16,
   "metadata": {},
   "outputs": [
    {
     "output_type": "execute_result",
     "data": {
      "text/plain": "      country                                        description  \\\n7335    Italy  Thick as molasses and dark as caramelized brow...   \n39286   Italy  A perfect wine from a classic vintage, the 200...   \n\n             designation  points  price province                    region_1  \\\n7335   Occhio di Pernice     100  210.0  Tuscany  Vin Santo di Montepulciano   \n39286            Masseto     100  460.0  Tuscany                     Toscana   \n\n      region_2 taster_name taster_twitter_handle  \\\n7335       NaN         NaN                   NaN   \n39286      NaN         NaN                   NaN   \n\n                                                   title           variety  \\\n7335   Avignonesi 1995 Occhio di Pernice  (Vin Santo ...  Prugnolo Gentile   \n39286  Tenuta dell'Ornellaia 2007 Masseto Merlot (Tos...            Merlot   \n\n                      winery  \n7335              Avignonesi  \n39286  Tenuta dell'Ornellaia  ",
      "text/html": "<div>\n<style scoped>\n    .dataframe tbody tr th:only-of-type {\n        vertical-align: middle;\n    }\n\n    .dataframe tbody tr th {\n        vertical-align: top;\n    }\n\n    .dataframe thead th {\n        text-align: right;\n    }\n</style>\n<table border=\"1\" class=\"dataframe\">\n  <thead>\n    <tr style=\"text-align: right;\">\n      <th></th>\n      <th>country</th>\n      <th>description</th>\n      <th>designation</th>\n      <th>points</th>\n      <th>price</th>\n      <th>province</th>\n      <th>region_1</th>\n      <th>region_2</th>\n      <th>taster_name</th>\n      <th>taster_twitter_handle</th>\n      <th>title</th>\n      <th>variety</th>\n      <th>winery</th>\n    </tr>\n  </thead>\n  <tbody>\n    <tr>\n      <th>7335</th>\n      <td>Italy</td>\n      <td>Thick as molasses and dark as caramelized brow...</td>\n      <td>Occhio di Pernice</td>\n      <td>100</td>\n      <td>210.0</td>\n      <td>Tuscany</td>\n      <td>Vin Santo di Montepulciano</td>\n      <td>NaN</td>\n      <td>NaN</td>\n      <td>NaN</td>\n      <td>Avignonesi 1995 Occhio di Pernice  (Vin Santo ...</td>\n      <td>Prugnolo Gentile</td>\n      <td>Avignonesi</td>\n    </tr>\n    <tr>\n      <th>39286</th>\n      <td>Italy</td>\n      <td>A perfect wine from a classic vintage, the 200...</td>\n      <td>Masseto</td>\n      <td>100</td>\n      <td>460.0</td>\n      <td>Tuscany</td>\n      <td>Toscana</td>\n      <td>NaN</td>\n      <td>NaN</td>\n      <td>NaN</td>\n      <td>Tenuta dell'Ornellaia 2007 Masseto Merlot (Tos...</td>\n      <td>Merlot</td>\n      <td>Tenuta dell'Ornellaia</td>\n    </tr>\n  </tbody>\n</table>\n</div>"
     },
     "metadata": {},
     "execution_count": 16
    }
   ],
   "source": [
    "# Chosing all rows which follow a condition\n",
    "my_local_df.loc[my_local_df.country == 'Italy']\n",
    "\n",
    "# Applying OR statements we use a pipe (|):\n",
    "my_local_df.loc[(my_local_df.country == 'Italy') | (my_local_df.points >= 90)]\n",
    "\n",
    "# Using AND statements (&) to apply more conditions:\n",
    "my_local_df.loc[(my_local_df.country == 'Italy') & (my_local_df.points >= 100)].head(2)"
   ]
  },
  {
   "cell_type": "code",
   "execution_count": 17,
   "metadata": {},
   "outputs": [
    {
     "output_type": "execute_result",
     "data": {
      "text/plain": "      country                                        description  \\\n7335    Italy  Thick as molasses and dark as caramelized brow...   \n36528  France  This is a fabulous wine from the greatest Cham...   \n\n             designation  points  price   province  \\\n7335   Occhio di Pernice     100  210.0    Tuscany   \n36528               Brut     100  259.0  Champagne   \n\n                         region_1 region_2 taster_name taster_twitter_handle  \\\n7335   Vin Santo di Montepulciano      NaN         NaN                   NaN   \n36528                   Champagne      NaN  Roger Voss            @vossroger   \n\n                                                   title           variety  \\\n7335   Avignonesi 1995 Occhio di Pernice  (Vin Santo ...  Prugnolo Gentile   \n36528                        Krug 2002 Brut  (Champagne)   Champagne Blend   \n\n           winery  \n7335   Avignonesi  \n36528        Krug  ",
      "text/html": "<div>\n<style scoped>\n    .dataframe tbody tr th:only-of-type {\n        vertical-align: middle;\n    }\n\n    .dataframe tbody tr th {\n        vertical-align: top;\n    }\n\n    .dataframe thead th {\n        text-align: right;\n    }\n</style>\n<table border=\"1\" class=\"dataframe\">\n  <thead>\n    <tr style=\"text-align: right;\">\n      <th></th>\n      <th>country</th>\n      <th>description</th>\n      <th>designation</th>\n      <th>points</th>\n      <th>price</th>\n      <th>province</th>\n      <th>region_1</th>\n      <th>region_2</th>\n      <th>taster_name</th>\n      <th>taster_twitter_handle</th>\n      <th>title</th>\n      <th>variety</th>\n      <th>winery</th>\n    </tr>\n  </thead>\n  <tbody>\n    <tr>\n      <th>7335</th>\n      <td>Italy</td>\n      <td>Thick as molasses and dark as caramelized brow...</td>\n      <td>Occhio di Pernice</td>\n      <td>100</td>\n      <td>210.0</td>\n      <td>Tuscany</td>\n      <td>Vin Santo di Montepulciano</td>\n      <td>NaN</td>\n      <td>NaN</td>\n      <td>NaN</td>\n      <td>Avignonesi 1995 Occhio di Pernice  (Vin Santo ...</td>\n      <td>Prugnolo Gentile</td>\n      <td>Avignonesi</td>\n    </tr>\n    <tr>\n      <th>36528</th>\n      <td>France</td>\n      <td>This is a fabulous wine from the greatest Cham...</td>\n      <td>Brut</td>\n      <td>100</td>\n      <td>259.0</td>\n      <td>Champagne</td>\n      <td>Champagne</td>\n      <td>NaN</td>\n      <td>Roger Voss</td>\n      <td>@vossroger</td>\n      <td>Krug 2002 Brut  (Champagne)</td>\n      <td>Champagne Blend</td>\n      <td>Krug</td>\n    </tr>\n  </tbody>\n</table>\n</div>"
     },
     "metadata": {},
     "execution_count": 17
    }
   ],
   "source": [
    "# The first is isin. isin is lets you select data whose value \"is in\" a list of values. For example, here's how we can use it to select wines only from Italy or France:\n",
    "my_local_df.loc[my_local_df.country.isin(['Italy', 'France']) & (my_local_df.points >= 100)].head() \n",
    "\n",
    "#isnull (and notnull). \n",
    "my_local_df.loc[my_local_df.designation.notnull() & my_local_df.country.isin(['Italy', 'France']) & (my_local_df.points >= 100)].head(2)"
   ]
  },
  {
   "cell_type": "markdown",
   "metadata": {},
   "source": [
    "Assigning Data\n",
    "-"
   ]
  },
  {
   "cell_type": "code",
   "execution_count": 18,
   "metadata": {
    "tags": []
   },
   "outputs": [
    {
     "output_type": "stream",
     "name": "stdout",
     "text": "0    everyone\n1    everyone\n2    everyone\n3    everyone\n4    everyone\nName: critic, dtype: object\n0    129971\n1    129970\n2    129969\n3    129968\n4    129967\nName: index_backwards, dtype: int32\n"
    }
   ],
   "source": [
    "# Going the other way, assigning data to a DataFrame is easy. You can assign either a constant value:\n",
    "my_local_df['critic'] = 'everyone'\n",
    "print(my_local_df['critic'].head())\n",
    "\n",
    "#Or with an iterable of values:\n",
    "my_local_df['index_backwards'] = range(len(my_local_df), 0, -1)\n",
    "print(my_local_df['index_backwards'].head())"
   ]
  },
  {
   "cell_type": "markdown",
   "metadata": {},
   "source": [
    "Summary Functions\n",
    "-"
   ]
  },
  {
   "cell_type": "code",
   "execution_count": 19,
   "metadata": {
    "tags": []
   },
   "outputs": [
    {
     "output_type": "stream",
     "name": "stdout",
     "text": "count    129971.000000\nmean         88.447138\nstd           3.039730\nmin          80.000000\n25%          86.000000\n50%          88.000000\n75%          91.000000\nmax         100.000000\nName: points, dtype: float64\ncount     129908\nunique        43\ntop           US\nfreq       54504\nName: country, dtype: object\n"
    }
   ],
   "source": [
    "# Type ware high-level summary of the attributes of the given column\n",
    "print(my_local_df.points.describe())\n",
    "print(my_local_df.country.describe())"
   ]
  },
  {
   "cell_type": "code",
   "execution_count": 20,
   "metadata": {},
   "outputs": [
    {
     "output_type": "execute_result",
     "data": {
      "text/plain": "88.44713820775404"
     },
     "metadata": {},
     "execution_count": 20
    }
   ],
   "source": [
    "#The mean of a float:\n",
    "my_local_df.points.mean()"
   ]
  },
  {
   "cell_type": "code",
   "execution_count": 21,
   "metadata": {},
   "outputs": [
    {
     "output_type": "execute_result",
     "data": {
      "text/plain": "array(['Kerin O’Keefe', 'Roger Voss', 'Paul Gregutt',\n       'Alexander Peartree', 'Michael Schachner', 'Anna Lee C. Iijima',\n       'Virginie Boone', 'Matt Kettmann', nan, 'Sean P. Sullivan',\n       'Jim Gordon', 'Joe Czerwinski', 'Anne Krebiehl\\xa0MW',\n       'Lauren Buzzeo', 'Mike DeSimone', 'Jeff Jenssen',\n       'Susan Kostrzewa', 'Carrie Dykes', 'Fiona Adams',\n       'Christina Pickard'], dtype=object)"
     },
     "metadata": {},
     "execution_count": 21
    }
   ],
   "source": [
    "#List of unique values:\n",
    "my_local_df.taster_name.unique()"
   ]
  },
  {
   "cell_type": "code",
   "execution_count": 22,
   "metadata": {},
   "outputs": [
    {
     "output_type": "execute_result",
     "data": {
      "text/plain": "Roger Voss           25514\nMichael Schachner    15134\nKerin O’Keefe        10776\nVirginie Boone        9537\nPaul Gregutt          9532\nName: taster_name, dtype: int64"
     },
     "metadata": {},
     "execution_count": 22
    }
   ],
   "source": [
    "#List of unique values and how often they occur in the dataset:\n",
    "my_local_df.taster_name.value_counts().head()"
   ]
  },
  {
   "cell_type": "markdown",
   "metadata": {},
   "source": [
    "Changing all with data map() , apply() and built-in\n",
    "-"
   ]
  },
  {
   "cell_type": "code",
   "execution_count": 23,
   "metadata": {
    "tags": []
   },
   "outputs": [
    {
     "output_type": "stream",
     "name": "stdout",
     "text": "0   -1.447138\n1   -1.447138\n2   -1.447138\n3   -1.447138\n4   -1.447138\nName: points, dtype: float64\n3607\n"
    }
   ],
   "source": [
    "# A map is a function that takes one set of values and \"maps\" them to another set of values. There are two mapping methods that you will use often. To re-mean the values\n",
    "my_local_mean = my_local_df.points.mean()\n",
    "print(my_local_df.points.map(lambda x: x - my_local_mean).head())\n",
    "\n",
    "#Check how many times a word appear\n",
    "print(my_local_df.description.map(lambda x: \"tropical\" in x).sum())\n",
    "\n",
    "#The function you pass to map() should expect a single value from the Series (a point value, in the above example), and return a transformed version of that value. map() returns a new Series where all the values have been transformed by your function."
   ]
  },
  {
   "cell_type": "code",
   "execution_count": 24,
   "metadata": {},
   "outputs": [],
   "source": [
    "#apply() If we want to transform a whole DataFrame by calling a custom method on each row.\n",
    "my_local_mean = my_local_df.points.mean()\n",
    "def remean_points(row):\n",
    "    row.points = row.points - my_local_mean\n",
    "    return row\n",
    "#my_local_df.apply(remean_points, axis='columns')\n",
    "\n",
    "\n",
    "# Making a apply function\n",
    "def stars(row):\n",
    "    if row.country == 'Canada':\n",
    "        return 3\n",
    "    elif row.points >= 95:\n",
    "        return 3\n",
    "    elif row.points >= 85:\n",
    "        return 2\n",
    "    else:\n",
    "        return 1\n",
    "#df.apply(stars, axis='columns')"
   ]
  },
  {
   "cell_type": "code",
   "execution_count": 25,
   "metadata": {},
   "outputs": [
    {
     "output_type": "execute_result",
     "data": {
      "text/plain": "'Bandit NV Merlot (California)'"
     },
     "metadata": {},
     "execution_count": 25
    }
   ],
   "source": [
    "# Pandas Built-ins\n",
    "my_local_df.points - 10\n",
    "\n",
    "# Combining strings\n",
    "my_local_df.country + \" - \" + my_local_df.region_1\n",
    "\n",
    "# These operators are faster than map() or apply() because they uses speed ups built into pandas. All of the standard Python operators (>, <, ==, and so on) work in this manner. However, they are not as flexible as map() or apply(), which can do more advanced things, like applying conditional logic, which cannot be done with addition and subtraction alone.\n",
    "\n",
    "#finding the wine which is the best bargain\n",
    "points_to_price = my_local_df.points / my_local_df.price\n",
    "my_local_df.title[points_to_price.idxmax()]"
   ]
  },
  {
   "cell_type": "markdown",
   "metadata": {},
   "source": [
    "Groupwize analysis - slicing based on value in colum\n",
    "-"
   ]
  },
  {
   "cell_type": "code",
   "execution_count": 26,
   "metadata": {},
   "outputs": [
    {
     "output_type": "execute_result",
     "data": {
      "text/plain": "points\n80     397\n81     692\n82    1836\n83    3025\n84    6480\ndtype: int64"
     },
     "metadata": {},
     "execution_count": 26
    }
   ],
   "source": [
    "#Count observations whith a given attribute\n",
    "my_local_df.groupby('points').size().head()\n",
    "\n",
    "# We can use any of the summary functions \n",
    "#.max()\n",
    "#.min()\n",
    "#.mean()"
   ]
  },
  {
   "cell_type": "code",
   "execution_count": 27,
   "metadata": {},
   "outputs": [
    {
     "output_type": "execute_result",
     "data": {
      "text/plain": "winery\n1+1=3               Nicosia 2013 Vulkà Bianco  (Etna)\n10 Knots            Nicosia 2013 Vulkà Bianco  (Etna)\n100 Percent Wine    Nicosia 2013 Vulkà Bianco  (Etna)\n1000 Stories        Nicosia 2013 Vulkà Bianco  (Etna)\n1070 Green          Nicosia 2013 Vulkà Bianco  (Etna)\ndtype: object"
     },
     "metadata": {},
     "execution_count": 27
    }
   ],
   "source": [
    "# For example, here's one way of selecting the name of the first wine reviewed from each winery in the dataset:\n",
    "my_local_df.groupby('winery').apply(lambda df: my_local_df.title.iloc[0]).head()\n",
    "\n"
   ]
  },
  {
   "cell_type": "code",
   "execution_count": 28,
   "metadata": {},
   "outputs": [
    {
     "output_type": "execute_result",
     "data": {
      "text/plain": "country    province        \nArgentina  Mendoza Province    3264\n           Other                536\nArmenia    Armenia                2\nAustralia  Australia Other      245\n           New South Wales       85\n                               ... \nUruguay    Juanico               12\n           Montevideo            11\n           Progreso              11\n           San Jose               3\n           Uruguay               24\nLength: 425, dtype: int64"
     },
     "metadata": {},
     "execution_count": 28
    }
   ],
   "source": [
    "#For even more fine-grained control, you can also group by more than one column. For an example, here's how we would pick out the best wine by country and province:\n",
    "my_local_df.groupby(['country', 'province']).apply(lambda df: my_local_df.loc[my_local_df.points.idxmax()])\n",
    "\n",
    "#Groupby with more arguments make a multi index Dataframe\n",
    "my_local_df.groupby(['country', 'province']).size()\n"
   ]
  },
  {
   "cell_type": "code",
   "execution_count": 29,
   "metadata": {},
   "outputs": [
    {
     "output_type": "execute_result",
     "data": {
      "text/plain": "                           len   min     max\ncountry                                     \nArgentina               3800.0   4.0   230.0\nArmenia                    2.0  14.0    15.0\nAustralia               2329.0   5.0   850.0\nAustria                 3345.0   7.0  1100.0\nBosnia and Herzegovina     2.0  12.0    13.0",
      "text/html": "<div>\n<style scoped>\n    .dataframe tbody tr th:only-of-type {\n        vertical-align: middle;\n    }\n\n    .dataframe tbody tr th {\n        vertical-align: top;\n    }\n\n    .dataframe thead th {\n        text-align: right;\n    }\n</style>\n<table border=\"1\" class=\"dataframe\">\n  <thead>\n    <tr style=\"text-align: right;\">\n      <th></th>\n      <th>len</th>\n      <th>min</th>\n      <th>max</th>\n    </tr>\n    <tr>\n      <th>country</th>\n      <th></th>\n      <th></th>\n      <th></th>\n    </tr>\n  </thead>\n  <tbody>\n    <tr>\n      <th>Argentina</th>\n      <td>3800.0</td>\n      <td>4.0</td>\n      <td>230.0</td>\n    </tr>\n    <tr>\n      <th>Armenia</th>\n      <td>2.0</td>\n      <td>14.0</td>\n      <td>15.0</td>\n    </tr>\n    <tr>\n      <th>Australia</th>\n      <td>2329.0</td>\n      <td>5.0</td>\n      <td>850.0</td>\n    </tr>\n    <tr>\n      <th>Austria</th>\n      <td>3345.0</td>\n      <td>7.0</td>\n      <td>1100.0</td>\n    </tr>\n    <tr>\n      <th>Bosnia and Herzegovina</th>\n      <td>2.0</td>\n      <td>12.0</td>\n      <td>13.0</td>\n    </tr>\n  </tbody>\n</table>\n</div>"
     },
     "metadata": {},
     "execution_count": 29
    }
   ],
   "source": [
    "#Another groupby() method worth mentioning is agg(), which lets you run a bunch of different functions on your DataFrame simultaneously.\n",
    "stat_df=my_local_df.groupby(['country']).price.agg([len, min, max]).head()\n",
    "stat_df"
   ]
  },
  {
   "cell_type": "markdown",
   "metadata": {},
   "source": [
    "Sorting & Reindexing\n",
    "-"
   ]
  },
  {
   "cell_type": "code",
   "execution_count": 30,
   "metadata": {
    "tags": []
   },
   "outputs": [
    {
     "output_type": "stream",
     "name": "stdout",
     "text": "country     len   min     max\n0               Argentina  3800.0   4.0   230.0\n1                 Armenia     2.0  14.0    15.0\n2               Australia  2329.0   5.0   850.0\n3                 Austria  3345.0   7.0  1100.0\n4  Bosnia and Herzegovina     2.0  12.0    13.0\n                  country     len   min     max\n0               Argentina  3800.0   4.0   230.0\n3                 Austria  3345.0   7.0  1100.0\n2               Australia  2329.0   5.0   850.0\n1                 Armenia     2.0  14.0    15.0\n4  Bosnia and Herzegovina     2.0  12.0    13.0\n                  country     len   min     max\n0               Argentina  3800.0   4.0   230.0\n1                 Armenia     2.0  14.0    15.0\n2               Australia  2329.0   5.0   850.0\n3                 Austria  3345.0   7.0  1100.0\n4  Bosnia and Herzegovina     2.0  12.0    13.0\n"
    }
   ],
   "source": [
    "#New index\n",
    "stat_df = stat_df.reset_index()\n",
    "print(stat_df)\n",
    "\n",
    "#Sorting based on something else than index\n",
    "print(stat_df.sort_values(by='len',ascending=False))\n",
    "\n",
    "# To sort by index values, use the companion method sort_index(). \n",
    "print(stat_df.sort_index())\n"
   ]
  },
  {
   "cell_type": "code",
   "execution_count": 31,
   "metadata": {},
   "outputs": [
    {
     "output_type": "execute_result",
     "data": {
      "text/plain": "                  country     len   min     max\n0               Argentina  3800.0   4.0   230.0\n1                 Armenia     2.0  14.0    15.0\n2               Australia  2329.0   5.0   850.0\n3                 Austria  3345.0   7.0  1100.0\n4  Bosnia and Herzegovina     2.0  12.0    13.0",
      "text/html": "<div>\n<style scoped>\n    .dataframe tbody tr th:only-of-type {\n        vertical-align: middle;\n    }\n\n    .dataframe tbody tr th {\n        vertical-align: top;\n    }\n\n    .dataframe thead th {\n        text-align: right;\n    }\n</style>\n<table border=\"1\" class=\"dataframe\">\n  <thead>\n    <tr style=\"text-align: right;\">\n      <th></th>\n      <th>country</th>\n      <th>len</th>\n      <th>min</th>\n      <th>max</th>\n    </tr>\n  </thead>\n  <tbody>\n    <tr>\n      <th>0</th>\n      <td>Argentina</td>\n      <td>3800.0</td>\n      <td>4.0</td>\n      <td>230.0</td>\n    </tr>\n    <tr>\n      <th>1</th>\n      <td>Armenia</td>\n      <td>2.0</td>\n      <td>14.0</td>\n      <td>15.0</td>\n    </tr>\n    <tr>\n      <th>2</th>\n      <td>Australia</td>\n      <td>2329.0</td>\n      <td>5.0</td>\n      <td>850.0</td>\n    </tr>\n    <tr>\n      <th>3</th>\n      <td>Austria</td>\n      <td>3345.0</td>\n      <td>7.0</td>\n      <td>1100.0</td>\n    </tr>\n    <tr>\n      <th>4</th>\n      <td>Bosnia and Herzegovina</td>\n      <td>2.0</td>\n      <td>12.0</td>\n      <td>13.0</td>\n    </tr>\n  </tbody>\n</table>\n</div>"
     },
     "metadata": {},
     "execution_count": 31
    }
   ],
   "source": [
    "# Finally, know that you can sort by more than one column at a time:\n",
    "stat_df.sort_values(by=['country', 'len'])\n"
   ]
  },
  {
   "cell_type": "markdown",
   "metadata": {},
   "source": [
    "Data Types & Missing Values\n",
    "-"
   ]
  },
  {
   "cell_type": "code",
   "execution_count": 32,
   "metadata": {},
   "outputs": [
    {
     "output_type": "execute_result",
     "data": {
      "text/plain": "dtype('float64')"
     },
     "metadata": {},
     "execution_count": 32
    }
   ],
   "source": [
    "# The data type for a column in a DataFrame or a Series is known as the dtype.You can use the dtype property to grab the type of a specific column. For instance, we can get the dtype of the price column in the reviews DataFrame:\n",
    "my_local_df.price.dtype"
   ]
  },
  {
   "cell_type": "code",
   "execution_count": 33,
   "metadata": {},
   "outputs": [
    {
     "output_type": "execute_result",
     "data": {
      "text/plain": "country        object\ndescription    object\ndesignation    object\npoints          int64\ndtype: object"
     },
     "metadata": {},
     "execution_count": 33
    }
   ],
   "source": [
    "# Alternatively, the dtypes property returns the dtype of every column in the DataFrame:\n",
    "my_local_df.dtypes.head(4)"
   ]
  },
  {
   "cell_type": "code",
   "execution_count": 34,
   "metadata": {},
   "outputs": [
    {
     "output_type": "execute_result",
     "data": {
      "text/plain": "0    87.0\n1    87.0\nName: points, dtype: float64"
     },
     "metadata": {},
     "execution_count": 34
    }
   ],
   "source": [
    "#It's possible to convert a column of one type into another wherever such a conversion makes sense by using the astype() function. For example, we may transform the points column from its existing int64 data type into a float64 data type:\n",
    "my_local_df.points.astype('float64').head(2)"
   ]
  },
  {
   "cell_type": "code",
   "execution_count": 35,
   "metadata": {},
   "outputs": [
    {
     "output_type": "execute_result",
     "data": {
      "text/plain": "     country                                        description  \\\n913      NaN  Amber in color, this wine has aromas of peach ...   \n3131     NaN  Soft, fruity and juicy, this is a pleasant, si...   \n\n         designation  points  price province region_1 region_2    taster_name  \\\n913   Asureti Valley      87   30.0      NaN      NaN      NaN  Mike DeSimone   \n3131        Partager      83    NaN      NaN      NaN      NaN     Roger Voss   \n\n     taster_twitter_handle                                           title  \\\n913         @worldwineguys  Gotsa Family Wines 2014 Asureti Valley Chinuri   \n3131            @vossroger               Barton & Guestier NV Partager Red   \n\n        variety              winery    critic  index_backwards  \n913     Chinuri  Gotsa Family Wines  everyone           129058  \n3131  Red Blend   Barton & Guestier  everyone           126840  ",
      "text/html": "<div>\n<style scoped>\n    .dataframe tbody tr th:only-of-type {\n        vertical-align: middle;\n    }\n\n    .dataframe tbody tr th {\n        vertical-align: top;\n    }\n\n    .dataframe thead th {\n        text-align: right;\n    }\n</style>\n<table border=\"1\" class=\"dataframe\">\n  <thead>\n    <tr style=\"text-align: right;\">\n      <th></th>\n      <th>country</th>\n      <th>description</th>\n      <th>designation</th>\n      <th>points</th>\n      <th>price</th>\n      <th>province</th>\n      <th>region_1</th>\n      <th>region_2</th>\n      <th>taster_name</th>\n      <th>taster_twitter_handle</th>\n      <th>title</th>\n      <th>variety</th>\n      <th>winery</th>\n      <th>critic</th>\n      <th>index_backwards</th>\n    </tr>\n  </thead>\n  <tbody>\n    <tr>\n      <th>913</th>\n      <td>NaN</td>\n      <td>Amber in color, this wine has aromas of peach ...</td>\n      <td>Asureti Valley</td>\n      <td>87</td>\n      <td>30.0</td>\n      <td>NaN</td>\n      <td>NaN</td>\n      <td>NaN</td>\n      <td>Mike DeSimone</td>\n      <td>@worldwineguys</td>\n      <td>Gotsa Family Wines 2014 Asureti Valley Chinuri</td>\n      <td>Chinuri</td>\n      <td>Gotsa Family Wines</td>\n      <td>everyone</td>\n      <td>129058</td>\n    </tr>\n    <tr>\n      <th>3131</th>\n      <td>NaN</td>\n      <td>Soft, fruity and juicy, this is a pleasant, si...</td>\n      <td>Partager</td>\n      <td>83</td>\n      <td>NaN</td>\n      <td>NaN</td>\n      <td>NaN</td>\n      <td>NaN</td>\n      <td>Roger Voss</td>\n      <td>@vossroger</td>\n      <td>Barton &amp; Guestier NV Partager Red</td>\n      <td>Red Blend</td>\n      <td>Barton &amp; Guestier</td>\n      <td>everyone</td>\n      <td>126840</td>\n    </tr>\n  </tbody>\n</table>\n</div>"
     },
     "metadata": {},
     "execution_count": 35
    }
   ],
   "source": [
    "# Entries missing values are given the value NaN, short for \"Not a Number\". For technical reasons these NaN values are always of the float64 dtype.\n",
    "\n",
    "# Pandas provides some methods specific to missing data. To select NaN entries you can use pd.isnull() (or its companion pd.notnull()). This is meant to be used thusly:\n",
    "\n",
    "my_local_df[pd.isnull(my_local_df.country)].head(2)"
   ]
  },
  {
   "cell_type": "code",
   "execution_count": 36,
   "metadata": {},
   "outputs": [
    {
     "output_type": "execute_result",
     "data": {
      "text/plain": "0              Unknown\n1              Unknown\n2    Willamette Valley\n3              Unknown\n4    Willamette Valley\nName: region_2, dtype: object"
     },
     "metadata": {},
     "execution_count": 36
    }
   ],
   "source": [
    "#fillna(). fillna() provides a few different strategies for mitigating Null. \n",
    "my_local_df.region_2.fillna(\"Unknown\").head()\n",
    "\n"
   ]
  },
  {
   "cell_type": "code",
   "execution_count": 37,
   "metadata": {},
   "outputs": [
    {
     "output_type": "execute_result",
     "data": {
      "text/plain": "0        @kerino\n1     @vossroger\n2    @paulgwine \nName: taster_twitter_handle, dtype: object"
     },
     "metadata": {},
     "execution_count": 37
    }
   ],
   "source": [
    "#Alternatively we can use the replace() method:\n",
    "my_local_df.taster_twitter_handle.replace(\"@kerinokeefe\", \"@kerino\").head(3)"
   ]
  },
  {
   "cell_type": "markdown",
   "metadata": {},
   "source": [
    "Renaming\n",
    "-"
   ]
  },
  {
   "cell_type": "code",
   "execution_count": 38,
   "metadata": {},
   "outputs": [
    {
     "output_type": "execute_result",
     "data": {
      "text/plain": "  country                                        description   designation  \\\n0   Italy  Aromas include tropical fruit, broom, brimston...  Vulkà Bianco   \n\n   score  price           province region_1 region_2    taster_name  \\\n0     87    NaN  Sicily & Sardinia     Etna      NaN  Kerin O’Keefe   \n\n  taster_twitter_handle                              title      variety  \\\n0          @kerinokeefe  Nicosia 2013 Vulkà Bianco  (Etna)  White Blend   \n\n    winery    critic  index_backwards  \n0  Nicosia  everyone           129971  ",
      "text/html": "<div>\n<style scoped>\n    .dataframe tbody tr th:only-of-type {\n        vertical-align: middle;\n    }\n\n    .dataframe tbody tr th {\n        vertical-align: top;\n    }\n\n    .dataframe thead th {\n        text-align: right;\n    }\n</style>\n<table border=\"1\" class=\"dataframe\">\n  <thead>\n    <tr style=\"text-align: right;\">\n      <th></th>\n      <th>country</th>\n      <th>description</th>\n      <th>designation</th>\n      <th>score</th>\n      <th>price</th>\n      <th>province</th>\n      <th>region_1</th>\n      <th>region_2</th>\n      <th>taster_name</th>\n      <th>taster_twitter_handle</th>\n      <th>title</th>\n      <th>variety</th>\n      <th>winery</th>\n      <th>critic</th>\n      <th>index_backwards</th>\n    </tr>\n  </thead>\n  <tbody>\n    <tr>\n      <th>0</th>\n      <td>Italy</td>\n      <td>Aromas include tropical fruit, broom, brimston...</td>\n      <td>Vulkà Bianco</td>\n      <td>87</td>\n      <td>NaN</td>\n      <td>Sicily &amp; Sardinia</td>\n      <td>Etna</td>\n      <td>NaN</td>\n      <td>Kerin O’Keefe</td>\n      <td>@kerinokeefe</td>\n      <td>Nicosia 2013 Vulkà Bianco  (Etna)</td>\n      <td>White Blend</td>\n      <td>Nicosia</td>\n      <td>everyone</td>\n      <td>129971</td>\n    </tr>\n  </tbody>\n</table>\n</div>"
     },
     "metadata": {},
     "execution_count": 38
    }
   ],
   "source": [
    "# Renaming¶\n",
    "my_local_df.rename(columns={'points': 'score'}).head(1)"
   ]
  },
  {
   "cell_type": "code",
   "execution_count": 39,
   "metadata": {},
   "outputs": [
    {
     "output_type": "execute_result",
     "data": {
      "text/plain": "              country                                        description  \\\nfirstEntry      Italy  Aromas include tropical fruit, broom, brimston...   \nsecondEntry  Portugal  This is ripe and fruity, a wine that is smooth...   \n2                  US  Tart and snappy, the flavors of lime flesh and...   \n\n              designation  points  price           province  \\\nfirstEntry   Vulkà Bianco      87    NaN  Sicily & Sardinia   \nsecondEntry      Avidagos      87   15.0              Douro   \n2                     NaN      87   14.0             Oregon   \n\n                      region_1           region_2    taster_name  \\\nfirstEntry                Etna                NaN  Kerin O’Keefe   \nsecondEntry                NaN                NaN     Roger Voss   \n2            Willamette Valley  Willamette Valley   Paul Gregutt   \n\n            taster_twitter_handle  \\\nfirstEntry           @kerinokeefe   \nsecondEntry            @vossroger   \n2                     @paulgwine    \n\n                                                     title         variety  \\\nfirstEntry               Nicosia 2013 Vulkà Bianco  (Etna)     White Blend   \nsecondEntry  Quinta dos Avidagos 2011 Avidagos Red (Douro)  Portuguese Red   \n2            Rainstorm 2013 Pinot Gris (Willamette Valley)      Pinot Gris   \n\n                          winery    critic  index_backwards  \nfirstEntry               Nicosia  everyone           129971  \nsecondEntry  Quinta dos Avidagos  everyone           129970  \n2                      Rainstorm  everyone           129969  ",
      "text/html": "<div>\n<style scoped>\n    .dataframe tbody tr th:only-of-type {\n        vertical-align: middle;\n    }\n\n    .dataframe tbody tr th {\n        vertical-align: top;\n    }\n\n    .dataframe thead th {\n        text-align: right;\n    }\n</style>\n<table border=\"1\" class=\"dataframe\">\n  <thead>\n    <tr style=\"text-align: right;\">\n      <th></th>\n      <th>country</th>\n      <th>description</th>\n      <th>designation</th>\n      <th>points</th>\n      <th>price</th>\n      <th>province</th>\n      <th>region_1</th>\n      <th>region_2</th>\n      <th>taster_name</th>\n      <th>taster_twitter_handle</th>\n      <th>title</th>\n      <th>variety</th>\n      <th>winery</th>\n      <th>critic</th>\n      <th>index_backwards</th>\n    </tr>\n  </thead>\n  <tbody>\n    <tr>\n      <th>firstEntry</th>\n      <td>Italy</td>\n      <td>Aromas include tropical fruit, broom, brimston...</td>\n      <td>Vulkà Bianco</td>\n      <td>87</td>\n      <td>NaN</td>\n      <td>Sicily &amp; Sardinia</td>\n      <td>Etna</td>\n      <td>NaN</td>\n      <td>Kerin O’Keefe</td>\n      <td>@kerinokeefe</td>\n      <td>Nicosia 2013 Vulkà Bianco  (Etna)</td>\n      <td>White Blend</td>\n      <td>Nicosia</td>\n      <td>everyone</td>\n      <td>129971</td>\n    </tr>\n    <tr>\n      <th>secondEntry</th>\n      <td>Portugal</td>\n      <td>This is ripe and fruity, a wine that is smooth...</td>\n      <td>Avidagos</td>\n      <td>87</td>\n      <td>15.0</td>\n      <td>Douro</td>\n      <td>NaN</td>\n      <td>NaN</td>\n      <td>Roger Voss</td>\n      <td>@vossroger</td>\n      <td>Quinta dos Avidagos 2011 Avidagos Red (Douro)</td>\n      <td>Portuguese Red</td>\n      <td>Quinta dos Avidagos</td>\n      <td>everyone</td>\n      <td>129970</td>\n    </tr>\n    <tr>\n      <th>2</th>\n      <td>US</td>\n      <td>Tart and snappy, the flavors of lime flesh and...</td>\n      <td>NaN</td>\n      <td>87</td>\n      <td>14.0</td>\n      <td>Oregon</td>\n      <td>Willamette Valley</td>\n      <td>Willamette Valley</td>\n      <td>Paul Gregutt</td>\n      <td>@paulgwine</td>\n      <td>Rainstorm 2013 Pinot Gris (Willamette Valley)</td>\n      <td>Pinot Gris</td>\n      <td>Rainstorm</td>\n      <td>everyone</td>\n      <td>129969</td>\n    </tr>\n  </tbody>\n</table>\n</div>"
     },
     "metadata": {},
     "execution_count": 39
    }
   ],
   "source": [
    "# rename() lets you rename index or column values by specifying a index or column keyword parameter, respectively.\n",
    "my_local_df.rename(index={0: 'firstEntry', 1: 'secondEntry'}).head(3)"
   ]
  },
  {
   "cell_type": "code",
   "execution_count": 40,
   "metadata": {},
   "outputs": [
    {
     "output_type": "execute_result",
     "data": {
      "text/plain": "Fields country                                        description  \\\nWines                                                               \n0        Italy  Aromas include tropical fruit, broom, brimston...   \n\nFields   designation  points  price           province region_1 region_2  \\\nWines                                                                      \n0       Vulkà Bianco      87    NaN  Sicily & Sardinia     Etna      NaN   \n\nFields    taster_name taster_twitter_handle  \\\nWines                                         \n0       Kerin O’Keefe          @kerinokeefe   \n\nFields                              title      variety   winery    critic  \\\nWines                                                                       \n0       Nicosia 2013 Vulkà Bianco  (Etna)  White Blend  Nicosia  everyone   \n\nFields  index_backwards  \nWines                    \n0                129971  ",
      "text/html": "<div>\n<style scoped>\n    .dataframe tbody tr th:only-of-type {\n        vertical-align: middle;\n    }\n\n    .dataframe tbody tr th {\n        vertical-align: top;\n    }\n\n    .dataframe thead th {\n        text-align: right;\n    }\n</style>\n<table border=\"1\" class=\"dataframe\">\n  <thead>\n    <tr style=\"text-align: right;\">\n      <th>Fields</th>\n      <th>country</th>\n      <th>description</th>\n      <th>designation</th>\n      <th>points</th>\n      <th>price</th>\n      <th>province</th>\n      <th>region_1</th>\n      <th>region_2</th>\n      <th>taster_name</th>\n      <th>taster_twitter_handle</th>\n      <th>title</th>\n      <th>variety</th>\n      <th>winery</th>\n      <th>critic</th>\n      <th>index_backwards</th>\n    </tr>\n    <tr>\n      <th>Wines</th>\n      <th></th>\n      <th></th>\n      <th></th>\n      <th></th>\n      <th></th>\n      <th></th>\n      <th></th>\n      <th></th>\n      <th></th>\n      <th></th>\n      <th></th>\n      <th></th>\n      <th></th>\n      <th></th>\n      <th></th>\n    </tr>\n  </thead>\n  <tbody>\n    <tr>\n      <th>0</th>\n      <td>Italy</td>\n      <td>Aromas include tropical fruit, broom, brimston...</td>\n      <td>Vulkà Bianco</td>\n      <td>87</td>\n      <td>NaN</td>\n      <td>Sicily &amp; Sardinia</td>\n      <td>Etna</td>\n      <td>NaN</td>\n      <td>Kerin O’Keefe</td>\n      <td>@kerinokeefe</td>\n      <td>Nicosia 2013 Vulkà Bianco  (Etna)</td>\n      <td>White Blend</td>\n      <td>Nicosia</td>\n      <td>everyone</td>\n      <td>129971</td>\n    </tr>\n  </tbody>\n</table>\n</div>"
     },
     "metadata": {},
     "execution_count": 40
    }
   ],
   "source": [
    "# You'll probably rename columns very often, but rename index values very rarely. For that, set_index() is usually more convenient.\n",
    "# Both the row index and the column index can have their own name attribute. The complimentary rename_axis() method may be used to change these names. For example:\n",
    "\n",
    "my_local_df.rename_axis(\"Wines\", axis='rows').rename_axis(\"Fields\", axis='columns').head(1)"
   ]
  },
  {
   "cell_type": "markdown",
   "metadata": {},
   "source": [
    "Combining \n",
    "-"
   ]
  },
  {
   "cell_type": "code",
   "execution_count": 41,
   "metadata": {
    "tags": []
   },
   "outputs": [
    {
     "output_type": "stream",
     "name": "stdout",
     "text": "['video_id', 'trending_date', 'title', 'channel_title', 'category_id', 'publish_time', 'tags', 'views', 'likes', 'dislikes', 'comment_count', 'thumbnail_link', 'comments_disabled', 'ratings_disabled', 'video_error_or_removed', 'description']\n['video_id', 'trending_date', 'title', 'channel_title', 'category_id', 'publish_time', 'tags', 'views', 'likes', 'dislikes', 'comment_count', 'thumbnail_link', 'comments_disabled', 'ratings_disabled', 'video_error_or_removed', 'description']\n"
    },
    {
     "output_type": "execute_result",
     "data": {
      "text/plain": "      video_id trending_date                                       title  \\\n0  n1WpP7iowLc      17.14.11  Eminem - Walk On Water (Audio) ft. Beyoncé   \n\n  channel_title  category_id              publish_time  \\\n0    EminemVEVO           10  2017-11-10T17:00:03.000Z   \n\n                                                tags     views   likes  \\\n0  Eminem|\"Walk\"|\"On\"|\"Water\"|\"Aftermath/Shady/In...  17158579  787425   \n\n   dislikes  comment_count                                  thumbnail_link  \\\n0     43420         125882  https://i.ytimg.com/vi/n1WpP7iowLc/default.jpg   \n\n   comments_disabled  ratings_disabled  video_error_or_removed  \\\n0              False             False                   False   \n\n                                         description  \n0  Eminem's new track Walk on Water ft. Beyoncé i...  ",
      "text/html": "<div>\n<style scoped>\n    .dataframe tbody tr th:only-of-type {\n        vertical-align: middle;\n    }\n\n    .dataframe tbody tr th {\n        vertical-align: top;\n    }\n\n    .dataframe thead th {\n        text-align: right;\n    }\n</style>\n<table border=\"1\" class=\"dataframe\">\n  <thead>\n    <tr style=\"text-align: right;\">\n      <th></th>\n      <th>video_id</th>\n      <th>trending_date</th>\n      <th>title</th>\n      <th>channel_title</th>\n      <th>category_id</th>\n      <th>publish_time</th>\n      <th>tags</th>\n      <th>views</th>\n      <th>likes</th>\n      <th>dislikes</th>\n      <th>comment_count</th>\n      <th>thumbnail_link</th>\n      <th>comments_disabled</th>\n      <th>ratings_disabled</th>\n      <th>video_error_or_removed</th>\n      <th>description</th>\n    </tr>\n  </thead>\n  <tbody>\n    <tr>\n      <th>0</th>\n      <td>n1WpP7iowLc</td>\n      <td>17.14.11</td>\n      <td>Eminem - Walk On Water (Audio) ft. Beyoncé</td>\n      <td>EminemVEVO</td>\n      <td>10</td>\n      <td>2017-11-10T17:00:03.000Z</td>\n      <td>Eminem|\"Walk\"|\"On\"|\"Water\"|\"Aftermath/Shady/In...</td>\n      <td>17158579</td>\n      <td>787425</td>\n      <td>43420</td>\n      <td>125882</td>\n      <td>https://i.ytimg.com/vi/n1WpP7iowLc/default.jpg</td>\n      <td>False</td>\n      <td>False</td>\n      <td>False</td>\n      <td>Eminem's new track Walk on Water ft. Beyoncé i...</td>\n    </tr>\n  </tbody>\n</table>\n</div>"
     },
     "metadata": {},
     "execution_count": 41
    }
   ],
   "source": [
    "# The simplest combining method is concat(). it requires that both Dataframes have same colums\n",
    "\n",
    "canadian_youtube = pd.read_csv(\"file://localhost/users/nicki/desktop/udvikling/python/data/CAvideos.csv\")\n",
    "british_youtube = pd.read_csv(\"file://localhost/users/nicki/desktop/udvikling/python/data/GBvideos.csv\")\n",
    "\n",
    "print(list(canadian_youtube))\n",
    "print(list(british_youtube))\n",
    "pd.concat([canadian_youtube, british_youtube]).head(1)\n",
    "\n"
   ]
  },
  {
   "cell_type": "code",
   "execution_count": 42,
   "metadata": {},
   "outputs": [
    {
     "output_type": "execute_result",
     "data": {
      "text/plain": "                                                                 video_id_CAN  \\\ntitle                                              trending_date                \n!! THIS VIDEO IS NOTHING BUT PAIN !! | Getting ... 18.04.01       PNn8sECd7io   \n\n                                                                 channel_title_CAN  \\\ntitle                                              trending_date                     \n!! THIS VIDEO IS NOTHING BUT PAIN !! | Getting ... 18.04.01             Markiplier   \n\n                                                                  category_id_CAN  \\\ntitle                                              trending_date                    \n!! THIS VIDEO IS NOTHING BUT PAIN !! | Getting ... 18.04.01                    20   \n\n                                                                          publish_time_CAN  \\\ntitle                                              trending_date                             \n!! THIS VIDEO IS NOTHING BUT PAIN !! | Getting ... 18.04.01       2018-01-03T19:33:53.000Z   \n\n                                                                                                           tags_CAN  \\\ntitle                                              trending_date                                                      \n!! THIS VIDEO IS NOTHING BUT PAIN !! | Getting ... 18.04.01       getting over it|\"markiplier\"|\"funny moments\"|\"...   \n\n                                                                  views_CAN  \\\ntitle                                              trending_date              \n!! THIS VIDEO IS NOTHING BUT PAIN !! | Getting ... 18.04.01          835930   \n\n                                                                  likes_CAN  \\\ntitle                                              trending_date              \n!! THIS VIDEO IS NOTHING BUT PAIN !! | Getting ... 18.04.01           47058   \n\n                                                                  dislikes_CAN  \\\ntitle                                              trending_date                 \n!! THIS VIDEO IS NOTHING BUT PAIN !! | Getting ... 18.04.01               1023   \n\n                                                                  comment_count_CAN  \\\ntitle                                              trending_date                      \n!! THIS VIDEO IS NOTHING BUT PAIN !! | Getting ... 18.04.01                    8250   \n\n                                                                                              thumbnail_link_CAN  \\\ntitle                                              trending_date                                                   \n!! THIS VIDEO IS NOTHING BUT PAIN !! | Getting ... 18.04.01       https://i.ytimg.com/vi/PNn8sECd7io/default.jpg   \n\n                                                                  ...  \\\ntitle                                              trending_date  ...   \n!! THIS VIDEO IS NOTHING BUT PAIN !! | Getting ... 18.04.01       ...   \n\n                                                                  tags_UK  \\\ntitle                                              trending_date            \n!! THIS VIDEO IS NOTHING BUT PAIN !! | Getting ... 18.04.01           NaN   \n\n                                                                  views_UK  \\\ntitle                                              trending_date             \n!! THIS VIDEO IS NOTHING BUT PAIN !! | Getting ... 18.04.01            NaN   \n\n                                                                  likes_UK  \\\ntitle                                              trending_date             \n!! THIS VIDEO IS NOTHING BUT PAIN !! | Getting ... 18.04.01            NaN   \n\n                                                                 dislikes_UK  \\\ntitle                                              trending_date               \n!! THIS VIDEO IS NOTHING BUT PAIN !! | Getting ... 18.04.01              NaN   \n\n                                                                 comment_count_UK  \\\ntitle                                              trending_date                    \n!! THIS VIDEO IS NOTHING BUT PAIN !! | Getting ... 18.04.01                   NaN   \n\n                                                                 thumbnail_link_UK  \\\ntitle                                              trending_date                     \n!! THIS VIDEO IS NOTHING BUT PAIN !! | Getting ... 18.04.01                    NaN   \n\n                                                                  comments_disabled_UK  \\\ntitle                                              trending_date                         \n!! THIS VIDEO IS NOTHING BUT PAIN !! | Getting ... 18.04.01                        NaN   \n\n                                                                 ratings_disabled_UK  \\\ntitle                                              trending_date                       \n!! THIS VIDEO IS NOTHING BUT PAIN !! | Getting ... 18.04.01                      NaN   \n\n                                                                 video_error_or_removed_UK  \\\ntitle                                              trending_date                             \n!! THIS VIDEO IS NOTHING BUT PAIN !! | Getting ... 18.04.01                            NaN   \n\n                                                                  description_UK  \ntitle                                              trending_date                  \n!! THIS VIDEO IS NOTHING BUT PAIN !! | Getting ... 18.04.01                  NaN  \n\n[1 rows x 28 columns]",
      "text/html": "<div>\n<style scoped>\n    .dataframe tbody tr th:only-of-type {\n        vertical-align: middle;\n    }\n\n    .dataframe tbody tr th {\n        vertical-align: top;\n    }\n\n    .dataframe thead th {\n        text-align: right;\n    }\n</style>\n<table border=\"1\" class=\"dataframe\">\n  <thead>\n    <tr style=\"text-align: right;\">\n      <th></th>\n      <th></th>\n      <th>video_id_CAN</th>\n      <th>channel_title_CAN</th>\n      <th>category_id_CAN</th>\n      <th>publish_time_CAN</th>\n      <th>tags_CAN</th>\n      <th>views_CAN</th>\n      <th>likes_CAN</th>\n      <th>dislikes_CAN</th>\n      <th>comment_count_CAN</th>\n      <th>thumbnail_link_CAN</th>\n      <th>...</th>\n      <th>tags_UK</th>\n      <th>views_UK</th>\n      <th>likes_UK</th>\n      <th>dislikes_UK</th>\n      <th>comment_count_UK</th>\n      <th>thumbnail_link_UK</th>\n      <th>comments_disabled_UK</th>\n      <th>ratings_disabled_UK</th>\n      <th>video_error_or_removed_UK</th>\n      <th>description_UK</th>\n    </tr>\n    <tr>\n      <th>title</th>\n      <th>trending_date</th>\n      <th></th>\n      <th></th>\n      <th></th>\n      <th></th>\n      <th></th>\n      <th></th>\n      <th></th>\n      <th></th>\n      <th></th>\n      <th></th>\n      <th></th>\n      <th></th>\n      <th></th>\n      <th></th>\n      <th></th>\n      <th></th>\n      <th></th>\n      <th></th>\n      <th></th>\n      <th></th>\n      <th></th>\n    </tr>\n  </thead>\n  <tbody>\n    <tr>\n      <th>!! THIS VIDEO IS NOTHING BUT PAIN !! | Getting Over It - Part 7</th>\n      <th>18.04.01</th>\n      <td>PNn8sECd7io</td>\n      <td>Markiplier</td>\n      <td>20</td>\n      <td>2018-01-03T19:33:53.000Z</td>\n      <td>getting over it|\"markiplier\"|\"funny moments\"|\"...</td>\n      <td>835930</td>\n      <td>47058</td>\n      <td>1023</td>\n      <td>8250</td>\n      <td>https://i.ytimg.com/vi/PNn8sECd7io/default.jpg</td>\n      <td>...</td>\n      <td>NaN</td>\n      <td>NaN</td>\n      <td>NaN</td>\n      <td>NaN</td>\n      <td>NaN</td>\n      <td>NaN</td>\n      <td>NaN</td>\n      <td>NaN</td>\n      <td>NaN</td>\n      <td>NaN</td>\n    </tr>\n  </tbody>\n</table>\n<p>1 rows × 28 columns</p>\n</div>"
     },
     "metadata": {},
     "execution_count": 42
    }
   ],
   "source": [
    "#The middlemost combiner in terms of complexity is join(). join() lets you combine different DataFrame objects which have an index in common. For example, to pull down videos that happened to be trending on the same day in both Canada and the UK, we could do the following:\n",
    "\n",
    "left = canadian_youtube.set_index(['title', 'trending_date'])\n",
    "right = british_youtube.set_index(['title', 'trending_date'])\n",
    "\n",
    "left.join(right, lsuffix='_CAN', rsuffix='_UK').head(1)\n",
    "\n",
    "#The lsuffix and rsuffix parameters are necessary here because the data has the same column names in both British and Canadian datasets. If this wasn't true (because, say, we'd renamed them beforehand) we wouldn't need them."
   ]
  },
  {
   "cell_type": "code",
   "execution_count": 43,
   "metadata": {},
   "outputs": [
    {
     "output_type": "error",
     "ename": "NameError",
     "evalue": "name 'CSV_1' is not defined",
     "traceback": [
      "\u001b[1;31m---------------------------------------------------------------------------\u001b[0m",
      "\u001b[1;31mNameError\u001b[0m                                 Traceback (most recent call last)",
      "\u001b[1;32m<ipython-input-43-f98aacbc6e69>\u001b[0m in \u001b[0;36m<module>\u001b[1;34m\u001b[0m\n\u001b[0;32m      1\u001b[0m \u001b[1;31m#Merging two CSV's\u001b[0m\u001b[1;33m\u001b[0m\u001b[1;33m\u001b[0m\u001b[1;33m\u001b[0m\u001b[0m\n\u001b[1;32m----> 2\u001b[1;33m \u001b[0mCSV_1\u001b[0m\u001b[1;33m.\u001b[0m\u001b[0mset_index\u001b[0m\u001b[1;33m(\u001b[0m\u001b[1;34m\"SomeCommonID\"\u001b[0m\u001b[1;33m)\u001b[0m\u001b[1;33m.\u001b[0m\u001b[0mjoin\u001b[0m\u001b[1;33m(\u001b[0m\u001b[0mCSV_2\u001b[0m\u001b[1;33m.\u001b[0m\u001b[0mset_index\u001b[0m\u001b[1;33m(\u001b[0m\u001b[1;34m\"SomeCommonID\"\u001b[0m\u001b[1;33m)\u001b[0m\u001b[1;33m)\u001b[0m\u001b[1;33m\u001b[0m\u001b[1;33m\u001b[0m\u001b[0m\n\u001b[0m",
      "\u001b[1;31mNameError\u001b[0m: name 'CSV_1' is not defined"
     ]
    }
   ],
   "source": [
    "#Merging two CSV's\n",
    "CSV_1.set_index(\"SomeCommonID\").join(CSV_2.set_index(\"SomeCommonID\"))\n"
   ]
  },
  {
   "cell_type": "code",
   "execution_count": 44,
   "metadata": {},
   "outputs": [
    {
     "output_type": "error",
     "ename": "TypeError",
     "evalue": "Can only merge Series or DataFrame objects, a <class 'str'> was passed",
     "traceback": [
      "\u001b[1;31m---------------------------------------------------------------------------\u001b[0m",
      "\u001b[1;31mTypeError\u001b[0m                                 Traceback (most recent call last)",
      "\u001b[1;32m<ipython-input-44-99a4127a7626>\u001b[0m in \u001b[0;36m<module>\u001b[1;34m\u001b[0m\n\u001b[0;32m      1\u001b[0m \u001b[1;31m#Merging dataframes\u001b[0m\u001b[1;33m\u001b[0m\u001b[1;33m\u001b[0m\u001b[1;33m\u001b[0m\u001b[0m\n\u001b[1;32m----> 2\u001b[1;33m \u001b[0mpd\u001b[0m\u001b[1;33m.\u001b[0m\u001b[0mmerge\u001b[0m\u001b[1;33m(\u001b[0m\u001b[1;34m\"DataFrame_1\"\u001b[0m\u001b[1;33m,\u001b[0m\u001b[1;34m\"DataFrame_2\"\u001b[0m\u001b[1;33m,\u001b[0m\u001b[0mon\u001b[0m\u001b[1;33m=\u001b[0m\u001b[1;34m\"SomeCommonID\"\u001b[0m\u001b[1;33m)\u001b[0m\u001b[1;33m\u001b[0m\u001b[1;33m\u001b[0m\u001b[0m\n\u001b[0m",
      "\u001b[1;32m~\\anaconda3\\lib\\site-packages\\pandas\\core\\reshape\\merge.py\u001b[0m in \u001b[0;36mmerge\u001b[1;34m(left, right, how, on, left_on, right_on, left_index, right_index, sort, suffixes, copy, indicator, validate)\u001b[0m\n\u001b[0;32m     84\u001b[0m         \u001b[0mcopy\u001b[0m\u001b[1;33m=\u001b[0m\u001b[0mcopy\u001b[0m\u001b[1;33m,\u001b[0m\u001b[1;33m\u001b[0m\u001b[1;33m\u001b[0m\u001b[0m\n\u001b[0;32m     85\u001b[0m         \u001b[0mindicator\u001b[0m\u001b[1;33m=\u001b[0m\u001b[0mindicator\u001b[0m\u001b[1;33m,\u001b[0m\u001b[1;33m\u001b[0m\u001b[1;33m\u001b[0m\u001b[0m\n\u001b[1;32m---> 86\u001b[1;33m         \u001b[0mvalidate\u001b[0m\u001b[1;33m=\u001b[0m\u001b[0mvalidate\u001b[0m\u001b[1;33m,\u001b[0m\u001b[1;33m\u001b[0m\u001b[1;33m\u001b[0m\u001b[0m\n\u001b[0m\u001b[0;32m     87\u001b[0m     )\n\u001b[0;32m     88\u001b[0m     \u001b[1;32mreturn\u001b[0m \u001b[0mop\u001b[0m\u001b[1;33m.\u001b[0m\u001b[0mget_result\u001b[0m\u001b[1;33m(\u001b[0m\u001b[1;33m)\u001b[0m\u001b[1;33m\u001b[0m\u001b[1;33m\u001b[0m\u001b[0m\n",
      "\u001b[1;32m~\\anaconda3\\lib\\site-packages\\pandas\\core\\reshape\\merge.py\u001b[0m in \u001b[0;36m__init__\u001b[1;34m(self, left, right, how, on, left_on, right_on, axis, left_index, right_index, sort, suffixes, copy, indicator, validate)\u001b[0m\n\u001b[0;32m    569\u001b[0m         \u001b[0mvalidate\u001b[0m\u001b[1;33m=\u001b[0m\u001b[1;32mNone\u001b[0m\u001b[1;33m,\u001b[0m\u001b[1;33m\u001b[0m\u001b[1;33m\u001b[0m\u001b[0m\n\u001b[0;32m    570\u001b[0m     ):\n\u001b[1;32m--> 571\u001b[1;33m         \u001b[0m_left\u001b[0m \u001b[1;33m=\u001b[0m \u001b[0m_validate_operand\u001b[0m\u001b[1;33m(\u001b[0m\u001b[0mleft\u001b[0m\u001b[1;33m)\u001b[0m\u001b[1;33m\u001b[0m\u001b[1;33m\u001b[0m\u001b[0m\n\u001b[0m\u001b[0;32m    572\u001b[0m         \u001b[0m_right\u001b[0m \u001b[1;33m=\u001b[0m \u001b[0m_validate_operand\u001b[0m\u001b[1;33m(\u001b[0m\u001b[0mright\u001b[0m\u001b[1;33m)\u001b[0m\u001b[1;33m\u001b[0m\u001b[1;33m\u001b[0m\u001b[0m\n\u001b[0;32m    573\u001b[0m         \u001b[0mself\u001b[0m\u001b[1;33m.\u001b[0m\u001b[0mleft\u001b[0m \u001b[1;33m=\u001b[0m \u001b[0mself\u001b[0m\u001b[1;33m.\u001b[0m\u001b[0morig_left\u001b[0m \u001b[1;33m=\u001b[0m \u001b[0m_left\u001b[0m\u001b[1;33m\u001b[0m\u001b[1;33m\u001b[0m\u001b[0m\n",
      "\u001b[1;32m~\\anaconda3\\lib\\site-packages\\pandas\\core\\reshape\\merge.py\u001b[0m in \u001b[0;36m_validate_operand\u001b[1;34m(obj)\u001b[0m\n\u001b[0;32m   2006\u001b[0m         raise TypeError(\n\u001b[0;32m   2007\u001b[0m             \u001b[1;34m\"Can only merge Series or DataFrame objects, \"\u001b[0m\u001b[1;33m\u001b[0m\u001b[1;33m\u001b[0m\u001b[0m\n\u001b[1;32m-> 2008\u001b[1;33m             \u001b[1;34m\"a {obj} was passed\"\u001b[0m\u001b[1;33m.\u001b[0m\u001b[0mformat\u001b[0m\u001b[1;33m(\u001b[0m\u001b[0mobj\u001b[0m\u001b[1;33m=\u001b[0m\u001b[0mtype\u001b[0m\u001b[1;33m(\u001b[0m\u001b[0mobj\u001b[0m\u001b[1;33m)\u001b[0m\u001b[1;33m)\u001b[0m\u001b[1;33m\u001b[0m\u001b[1;33m\u001b[0m\u001b[0m\n\u001b[0m\u001b[0;32m   2009\u001b[0m         )\n\u001b[0;32m   2010\u001b[0m \u001b[1;33m\u001b[0m\u001b[0m\n",
      "\u001b[1;31mTypeError\u001b[0m: Can only merge Series or DataFrame objects, a <class 'str'> was passed"
     ]
    }
   ],
   "source": [
    "#Merging dataframes\n",
    "pd.merge(\"DataFrame_1\",\"DataFrame_2\",on=\"SomeCommonID\")"
   ]
  }
 ],
 "metadata": {
  "kernelspec": {
   "display_name": "Python 3.7.6 64-bit ('base': conda)",
   "language": "python",
   "name": "python37664bitbaseconda8323ff0e61ae4a6b8857dd46a341f977"
  },
  "language_info": {
   "codemirror_mode": {
    "name": "ipython",
    "version": 3
   },
   "file_extension": ".py",
   "mimetype": "text/x-python",
   "name": "python",
   "nbconvert_exporter": "python",
   "pygments_lexer": "ipython3",
   "version": "3.7.6-final"
  }
 },
 "nbformat": 4,
 "nbformat_minor": 4
}