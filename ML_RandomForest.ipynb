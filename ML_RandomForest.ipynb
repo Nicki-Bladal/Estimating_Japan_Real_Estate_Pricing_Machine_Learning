{
 "cells": [
  {
   "cell_type": "code",
   "execution_count": 6,
   "metadata": {},
   "outputs": [],
   "source": [
    "import pandas as pd\n",
    "#Data\n",
    "data_link=\"https://raw.githubusercontent.com/Nicki-Bladal/Estimating_Japan_Real_Estate_Pricing_Machine_Learning/master/01.csv\"\n",
    "data_df = pd.read_csv(data_link,parse_dates=True,index_col=\"No\")"
   ]
  },
  {
   "cell_type": "markdown",
   "metadata": {},
   "source": [
    "Exploring data\n",
    "-"
   ]
  },
  {
   "cell_type": "code",
   "execution_count": 7,
   "metadata": {},
   "outputs": [
    {
     "output_type": "execute_result",
     "data": {
      "text/plain": "(186238, 37)"
     },
     "metadata": {},
     "execution_count": 7
    }
   ],
   "source": [
    "data_df.shape"
   ]
  },
  {
   "cell_type": "code",
   "execution_count": 8,
   "metadata": {
    "tags": []
   },
   "outputs": [
    {
     "output_type": "stream",
     "name": "stdout",
     "text": "<class 'pandas.core.frame.DataFrame'>\nInt64Index: 186238 entries, 1 to 186238\nData columns (total 37 columns):\n #   Column                       Non-Null Count   Dtype  \n---  ------                       --------------   -----  \n 0   Type                         186238 non-null  object \n 1   Region                       133069 non-null  object \n 2   MunicipalityCode             186238 non-null  int64  \n 3   Prefecture                   186238 non-null  object \n 4   Municipality                 186238 non-null  object \n 5   DistrictName                 183567 non-null  object \n 6   NearestStation               145929 non-null  object \n 7   TimeToNearestStation         144490 non-null  object \n 8   MinTimeToNearestStation      144490 non-null  float64\n 9   MaxTimeToNearestStation      140917 non-null  float64\n 10  TradePrice                   186238 non-null  int64  \n 11  FloorPlan                    20486 non-null   object \n 12  Area                         186238 non-null  int64  \n 13  AreaIsGreaterFlag            186238 non-null  int64  \n 14  UnitPrice                    66260 non-null   float64\n 15  PricePerTsubo                66260 non-null   float64\n 16  LandShape                    132674 non-null  object \n 17  Frontage                     125257 non-null  float64\n 18  FrontageIsGreaterFlag        186238 non-null  bool   \n 19  TotalFloorArea               62490 non-null   float64\n 20  TotalFloorAreaIsGreaterFlag  186238 non-null  int64  \n 21  BuildingYear                 81078 non-null   float64\n 22  PrewarBuilding               186238 non-null  int64  \n 23  Structure                    81430 non-null   object \n 24  Use                          81249 non-null   object \n 25  Purpose                      56882 non-null   object \n 26  Direction                    132631 non-null  object \n 27  Classification               129636 non-null  object \n 28  Breadth                      128012 non-null  float64\n 29  CityPlanning                 152003 non-null  object \n 30  CoverageRatio                140562 non-null  float64\n 31  FloorAreaRatio               140562 non-null  float64\n 32  Period                       186238 non-null  object \n 33  Year                         186238 non-null  int64  \n 34  Quarter                      186238 non-null  int64  \n 35  Renovation                   19731 non-null   object \n 36  Remarks                      6550 non-null    object \ndtypes: bool(1), float64(10), int64(8), object(18)\nmemory usage: 52.8+ MB\nNone\n"
    }
   ],
   "source": [
    "#Checking datatypes and non-null counts\n",
    "print(data_df.info())"
   ]
  },
  {
   "cell_type": "code",
   "execution_count": 225,
   "metadata": {},
   "outputs": [],
   "source": [
    "#PricePerTsubo is directly related to Price and is therefore a DataLeakage source which must be removed\n",
    "del data_df['PricePerTsubo']\n",
    "\n",
    "#TimeToNearestStation and MaxTimeToNearestStation are removed not to have 3 time factors\n",
    "del data_df['MaxTimeToNearestStation']\n",
    "del data_df['TimeToNearestStation']    \n",
    "\n",
    "#Municipality is dropped as Municipality code will suffice"
   ]
  },
  {
   "cell_type": "code",
   "execution_count": 227,
   "metadata": {},
   "outputs": [],
   "source": [
    "# Choose target and features\n",
    "y = filtered_data_df.TradePrice\n",
    "features = ['Area', 'BuildingYear', 'Year']\n",
    "X = filtered_data_df[features]"
   ]
  },
  {
   "cell_type": "code",
   "execution_count": 228,
   "metadata": {},
   "outputs": [
    {
     "output_type": "stream",
     "name": "stdout",
     "text": "<class 'pandas.core.frame.DataFrame'>\nInt64Index: 53718 entries, 10 to 186094\nData columns (total 3 columns):\n #   Column        Non-Null Count  Dtype  \n---  ------        --------------  -----  \n 0   Area          53718 non-null  int64  \n 1   BuildingYear  53718 non-null  float64\n 2   Year          53718 non-null  int64  \ndtypes: float64(1), int64(2)\nmemory usage: 1.6 MB\nNone\ncount    5.371800e+04\nmean     2.820917e+07\nstd      1.012609e+08\nmin      1.000000e+04\n25%      7.300000e+06\n50%      1.500000e+07\n75%      2.700000e+07\nmax      8.700000e+09\nName: TradePrice, dtype: float64\n"
    }
   ],
   "source": [
    "print(X.info())\n",
    "print(y.describe())"
   ]
  },
  {
   "cell_type": "code",
   "execution_count": 229,
   "metadata": {},
   "outputs": [],
   "source": [
    "from sklearn.model_selection import train_test_split\n",
    "\n",
    "# Reserving 30% of data at random for testing the models\n",
    "train_X, val_X, train_y, val_y = train_test_split(X, y, random_state = 1, train_size=0.7)"
   ]
  },
  {
   "cell_type": "code",
   "execution_count": 230,
   "metadata": {},
   "outputs": [],
   "source": [
    "# Define model as a decision tree model\n",
    "#forest_model = RandomForestRegressor(random_state=1)\n",
    "# Fit model with all data\n",
    "#forest_model.fit(train_X, train_y)\n",
    "#mean absolute error MAE (tested on trainingdata - not ok!):\n",
    "#preds = forest_model.predict(val_X)"
   ]
  },
  {
   "cell_type": "code",
   "execution_count": 231,
   "metadata": {},
   "outputs": [
    {
     "output_type": "stream",
     "name": "stdout",
     "text": "22893823.728370946\n"
    }
   ],
   "source": [
    "from sklearn.metrics import mean_absolute_error\n",
    "\n",
    "#Checking accuracy (% accurate predictions) and MAE \n",
    "print(mean_absolute_error(val_y, preds))\n",
    "#print(accuracy_score(val_y.values, preds))"
   ]
  }
 ],
 "metadata": {
  "language_info": {
   "codemirror_mode": {
    "name": "ipython",
    "version": 3
   },
   "file_extension": ".py",
   "mimetype": "text/x-python",
   "name": "python",
   "nbconvert_exporter": "python",
   "pygments_lexer": "ipython3",
   "version": "3.7.6-final"
  },
  "orig_nbformat": 2,
  "kernelspec": {
   "name": "python37664bitbaseconda8323ff0e61ae4a6b8857dd46a341f977",
   "display_name": "Python 3.7.6 64-bit ('base': conda)"
  }
 },
 "nbformat": 4,
 "nbformat_minor": 2
}