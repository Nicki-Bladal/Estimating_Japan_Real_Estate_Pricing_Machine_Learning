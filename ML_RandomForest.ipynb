{
 "cells": [
  {
   "cell_type": "code",
   "execution_count": 7,
   "metadata": {},
   "outputs": [],
   "source": [
    "#Support\n",
    "import pandas as pd\n",
    "#ML Libraries\n",
    "from sklearn.ensemble import RandomForestRegressor\n",
    "from sklearn.metrics import mean_absolute_error\n",
    "from sklearn.metrics import accuracy_score\n",
    "from sklearn.model_selection import train_test_split\n",
    "#Data\n",
    "melbourne_data = pd.read_csv(\"file://localhost/users/nicki/desktop/udvikling/python/data/melb_data.csv\",parse_dates=True)"
   ]
  },
  {
   "cell_type": "markdown",
   "metadata": {},
   "source": [
    "Random Forest Models\n",
    "-"
   ]
  },
  {
   "cell_type": "code",
   "execution_count": 8,
   "metadata": {},
   "outputs": [],
   "source": [
    "#Checking data \n",
    "melbourne_data.describe()\n",
    "melbourne_data.columns\n",
    "#Lots of rows with NA values\n",
    "filtered_melbourne_data = melbourne_data.dropna(axis=0)\n",
    "# Choose target and features\n",
    "y = filtered_melbourne_data.Price\n",
    "melbourne_features = ['Rooms', 'Bathroom', 'Landsize', 'BuildingArea', \n",
    "                        'YearBuilt', 'Lattitude', 'Longtitude']\n",
    "X = filtered_melbourne_data[melbourne_features]\n"
   ]
  },
  {
   "cell_type": "code",
   "execution_count": 24,
   "metadata": {},
   "outputs": [
    {
     "output_type": "stream",
     "name": "stdout",
     "text": "193739.85883064516\n"
    }
   ],
   "source": [
    "# Making new model but splitting data into training and validation data\n",
    "train_X, val_X, train_y, val_y = train_test_split(X, y, random_state = 0, train_size=0.8)\n",
    "# Define model as a decision tree model\n",
    "forest_model = RandomForestRegressor(random_state=1)\n",
    "# Fit model with all data\n",
    "forest_model.fit(train_X, train_y)\n",
    "#mean absolute error MAE (tested on trainingdata - not ok!):\n",
    "melb_preds = forest_model.predict(val_X)\n",
    "\n",
    "#Checking accuracy (% accurate predictions) and MAE \n",
    "print(mean_absolute_error(val_y, melb_preds))\n",
    "#NOT WORKING accuracy_score(val_y, melb_preds)"
   ]
  },
  {
   "cell_type": "markdown",
   "metadata": {},
   "source": [
    "Fitting\n",
    "-"
   ]
  },
  {
   "cell_type": "code",
   "execution_count": null,
   "metadata": {},
   "outputs": [],
   "source": []
  }
 ],
 "metadata": {
  "language_info": {
   "codemirror_mode": {
    "name": "ipython",
    "version": 3
   },
   "file_extension": ".py",
   "mimetype": "text/x-python",
   "name": "python",
   "nbconvert_exporter": "python",
   "pygments_lexer": "ipython3",
   "version": "3.7.6-final"
  },
  "orig_nbformat": 2,
  "kernelspec": {
   "name": "python37664bitbaseconda8323ff0e61ae4a6b8857dd46a341f977",
   "display_name": "Python 3.7.6 64-bit ('base': conda)"
  }
 },
 "nbformat": 4,
 "nbformat_minor": 2
}