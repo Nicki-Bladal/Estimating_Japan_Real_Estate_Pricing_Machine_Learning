{
 "cells": [
  {
   "cell_type": "code",
   "execution_count": 214,
   "metadata": {},
   "outputs": [],
   "source": [
    "#Support\n",
    "import pandas as pd\n",
    "#ML Libraries\n",
    "from sklearn.ensemble import RandomForestRegressor\n",
    "from sklearn.metrics import mean_absolute_error\n",
    "from sklearn.metrics import accuracy_score\n",
    "from sklearn.model_selection import train_test_split\n",
    "#Data\n",
    "data_df = pd.read_csv(\"file://localhost/users/nicki/desktop/udvikling/Estimating_Japan_Real_Estate_Pricing_Machine_Learning/01.csv\",parse_dates=True)"
   ]
  },
  {
   "cell_type": "markdown",
   "metadata": {},
   "source": [
    "Random Forest Models\n",
    "-"
   ]
  },
  {
   "cell_type": "code",
   "execution_count": 215,
   "metadata": {},
   "outputs": [
    {
     "output_type": "stream",
     "name": "stdout",
     "text": "<class 'pandas.core.frame.DataFrame'>\nRangeIndex: 186238 entries, 0 to 186237\nData columns (total 38 columns):\n #   Column                       Non-Null Count   Dtype  \n---  ------                       --------------   -----  \n 0   No                           186238 non-null  int64  \n 1   Type                         186238 non-null  object \n 2   Region                       133069 non-null  object \n 3   MunicipalityCode             186238 non-null  int64  \n 4   Prefecture                   186238 non-null  object \n 5   Municipality                 186238 non-null  object \n 6   DistrictName                 183567 non-null  object \n 7   NearestStation               145929 non-null  object \n 8   TimeToNearestStation         144490 non-null  object \n 9   MinTimeToNearestStation      144490 non-null  float64\n 10  MaxTimeToNearestStation      140917 non-null  float64\n 11  TradePrice                   186238 non-null  int64  \n 12  FloorPlan                    20486 non-null   object \n 13  Area                         186238 non-null  int64  \n 14  AreaIsGreaterFlag            186238 non-null  int64  \n 15  UnitPrice                    66260 non-null   float64\n 16  PricePerTsubo                66260 non-null   float64\n 17  LandShape                    132674 non-null  object \n 18  Frontage                     125257 non-null  float64\n 19  FrontageIsGreaterFlag        186238 non-null  bool   \n 20  TotalFloorArea               62490 non-null   float64\n 21  TotalFloorAreaIsGreaterFlag  186238 non-null  int64  \n 22  BuildingYear                 81078 non-null   float64\n 23  PrewarBuilding               186238 non-null  int64  \n 24  Structure                    81430 non-null   object \n 25  Use                          81249 non-null   object \n 26  Purpose                      56882 non-null   object \n 27  Direction                    132631 non-null  object \n 28  Classification               129636 non-null  object \n 29  Breadth                      128012 non-null  float64\n 30  CityPlanning                 152003 non-null  object \n 31  CoverageRatio                140562 non-null  float64\n 32  FloorAreaRatio               140562 non-null  float64\n 33  Period                       186238 non-null  object \n 34  Year                         186238 non-null  int64  \n 35  Quarter                      186238 non-null  int64  \n 36  Renovation                   19731 non-null   object \n 37  Remarks                      6550 non-null    object \ndtypes: bool(1), float64(10), int64(9), object(18)\nmemory usage: 52.8+ MB\nNone\n"
    }
   ],
   "source": [
    "#Checking data\n",
    "print(data_df.info())\n"
   ]
  },
  {
   "cell_type": "code",
   "execution_count": 216,
   "metadata": {},
   "outputs": [],
   "source": [
    "#Removing colums with lack of data\n",
    "del data_df['Remarks']\n",
    "del data_df['TotalFloorArea']\n",
    "del data_df['Renovation']\n",
    "del data_df['Quarter']\n",
    "del data_df['No']\n",
    "del data_df['MinTimeToNearestStation']\n",
    "del data_df['MaxTimeToNearestStation']\n",
    "del data_df['PricePerTsubo']\n",
    "del data_df['Purpose']\n",
    "del data_df['Use']\n",
    "del data_df['Structure']\n",
    "del data_df['FloorPlan']\n",
    "del data_df['UnitPrice']"
   ]
  },
  {
   "cell_type": "code",
   "execution_count": 217,
   "metadata": {},
   "outputs": [
    {
     "output_type": "stream",
     "name": "stdout",
     "text": "<class 'pandas.core.frame.DataFrame'>\nInt64Index: 53718 entries, 10 to 186094\nData columns (total 25 columns):\n #   Column                       Non-Null Count  Dtype  \n---  ------                       --------------  -----  \n 0   Type                         53718 non-null  object \n 1   Region                       53718 non-null  object \n 2   MunicipalityCode             53718 non-null  int64  \n 3   Prefecture                   53718 non-null  object \n 4   Municipality                 53718 non-null  object \n 5   DistrictName                 53718 non-null  object \n 6   NearestStation               53718 non-null  object \n 7   TimeToNearestStation         53718 non-null  object \n 8   TradePrice                   53718 non-null  int64  \n 9   Area                         53718 non-null  int64  \n 10  AreaIsGreaterFlag            53718 non-null  int64  \n 11  LandShape                    53718 non-null  object \n 12  Frontage                     53718 non-null  float64\n 13  FrontageIsGreaterFlag        53718 non-null  bool   \n 14  TotalFloorAreaIsGreaterFlag  53718 non-null  int64  \n 15  BuildingYear                 53718 non-null  float64\n 16  PrewarBuilding               53718 non-null  int64  \n 17  Direction                    53718 non-null  object \n 18  Classification               53718 non-null  object \n 19  Breadth                      53718 non-null  float64\n 20  CityPlanning                 53718 non-null  object \n 21  CoverageRatio                53718 non-null  float64\n 22  FloorAreaRatio               53718 non-null  float64\n 23  Period                       53718 non-null  object \n 24  Year                         53718 non-null  int64  \ndtypes: bool(1), float64(5), int64(7), object(12)\nmemory usage: 10.3+ MB\n"
    }
   ],
   "source": [
    "filtered_data_df=data_df.dropna()\n",
    "filtered_data_df.info()"
   ]
  },
  {
   "cell_type": "code",
   "execution_count": 218,
   "metadata": {},
   "outputs": [],
   "source": [
    "# Choose target and features\n",
    "y = filtered_data_df.TradePrice\n",
    "features = ['Area', 'BuildingYear', 'Year']\n",
    "X = filtered_data_df[features]"
   ]
  },
  {
   "cell_type": "code",
   "execution_count": 219,
   "metadata": {},
   "outputs": [
    {
     "output_type": "stream",
     "name": "stdout",
     "text": "<class 'pandas.core.frame.DataFrame'>\nInt64Index: 53718 entries, 10 to 186094\nData columns (total 3 columns):\n #   Column        Non-Null Count  Dtype  \n---  ------        --------------  -----  \n 0   Area          53718 non-null  int64  \n 1   BuildingYear  53718 non-null  float64\n 2   Year          53718 non-null  int64  \ndtypes: float64(1), int64(2)\nmemory usage: 1.6 MB\nNone\ncount    5.371800e+04\nmean     2.820917e+07\nstd      1.012609e+08\nmin      1.000000e+04\n25%      7.300000e+06\n50%      1.500000e+07\n75%      2.700000e+07\nmax      8.700000e+09\nName: TradePrice, dtype: float64\n"
    }
   ],
   "source": [
    "print(X.info())\n",
    "print(y.describe())"
   ]
  },
  {
   "cell_type": "code",
   "execution_count": 220,
   "metadata": {},
   "outputs": [],
   "source": [
    "# Reserving 30% of data at random for testing the models\n",
    "train_X, val_X, train_y, val_y = train_test_split(X, y, random_state = 1, train_size=0.7)"
   ]
  },
  {
   "cell_type": "code",
   "execution_count": 221,
   "metadata": {},
   "outputs": [],
   "source": [
    "# Define model as a decision tree model\n",
    "forest_model = RandomForestRegressor(random_state=1)\n",
    "# Fit model with all data\n",
    "forest_model.fit(train_X, train_y)\n",
    "#mean absolute error MAE (tested on trainingdata - not ok!):\n",
    "preds = forest_model.predict(val_X)"
   ]
  },
  {
   "cell_type": "code",
   "execution_count": 222,
   "metadata": {},
   "outputs": [
    {
     "output_type": "stream",
     "name": "stdout",
     "text": "22893823.728370946\n"
    },
    {
     "output_type": "error",
     "ename": "ValueError",
     "evalue": "Classification metrics can't handle a mix of multiclass and continuous targets",
     "traceback": [
      "\u001b[1;31m---------------------------------------------------------------------------\u001b[0m",
      "\u001b[1;31mValueError\u001b[0m                                Traceback (most recent call last)",
      "\u001b[1;32m<ipython-input-222-19159ae36980>\u001b[0m in \u001b[0;36m<module>\u001b[1;34m\u001b[0m\n\u001b[0;32m      1\u001b[0m \u001b[1;31m#Checking accuracy (% accurate predictions) and MAE\u001b[0m\u001b[1;33m\u001b[0m\u001b[1;33m\u001b[0m\u001b[1;33m\u001b[0m\u001b[0m\n\u001b[0;32m      2\u001b[0m \u001b[0mprint\u001b[0m\u001b[1;33m(\u001b[0m\u001b[0mmean_absolute_error\u001b[0m\u001b[1;33m(\u001b[0m\u001b[0mval_y\u001b[0m\u001b[1;33m,\u001b[0m \u001b[0mpreds\u001b[0m\u001b[1;33m)\u001b[0m\u001b[1;33m)\u001b[0m\u001b[1;33m\u001b[0m\u001b[1;33m\u001b[0m\u001b[0m\n\u001b[1;32m----> 3\u001b[1;33m \u001b[0mprint\u001b[0m\u001b[1;33m(\u001b[0m\u001b[0maccuracy_score\u001b[0m\u001b[1;33m(\u001b[0m\u001b[0mval_y\u001b[0m\u001b[1;33m.\u001b[0m\u001b[0mvalues\u001b[0m\u001b[1;33m,\u001b[0m \u001b[0mpreds\u001b[0m\u001b[1;33m)\u001b[0m\u001b[1;33m)\u001b[0m\u001b[1;33m\u001b[0m\u001b[1;33m\u001b[0m\u001b[0m\n\u001b[0m",
      "\u001b[1;32m~\\anaconda3\\lib\\site-packages\\sklearn\\metrics\\_classification.py\u001b[0m in \u001b[0;36maccuracy_score\u001b[1;34m(y_true, y_pred, normalize, sample_weight)\u001b[0m\n\u001b[0;32m    183\u001b[0m \u001b[1;33m\u001b[0m\u001b[0m\n\u001b[0;32m    184\u001b[0m     \u001b[1;31m# Compute accuracy for each possible representation\u001b[0m\u001b[1;33m\u001b[0m\u001b[1;33m\u001b[0m\u001b[1;33m\u001b[0m\u001b[0m\n\u001b[1;32m--> 185\u001b[1;33m     \u001b[0my_type\u001b[0m\u001b[1;33m,\u001b[0m \u001b[0my_true\u001b[0m\u001b[1;33m,\u001b[0m \u001b[0my_pred\u001b[0m \u001b[1;33m=\u001b[0m \u001b[0m_check_targets\u001b[0m\u001b[1;33m(\u001b[0m\u001b[0my_true\u001b[0m\u001b[1;33m,\u001b[0m \u001b[0my_pred\u001b[0m\u001b[1;33m)\u001b[0m\u001b[1;33m\u001b[0m\u001b[1;33m\u001b[0m\u001b[0m\n\u001b[0m\u001b[0;32m    186\u001b[0m     \u001b[0mcheck_consistent_length\u001b[0m\u001b[1;33m(\u001b[0m\u001b[0my_true\u001b[0m\u001b[1;33m,\u001b[0m \u001b[0my_pred\u001b[0m\u001b[1;33m,\u001b[0m \u001b[0msample_weight\u001b[0m\u001b[1;33m)\u001b[0m\u001b[1;33m\u001b[0m\u001b[1;33m\u001b[0m\u001b[0m\n\u001b[0;32m    187\u001b[0m     \u001b[1;32mif\u001b[0m \u001b[0my_type\u001b[0m\u001b[1;33m.\u001b[0m\u001b[0mstartswith\u001b[0m\u001b[1;33m(\u001b[0m\u001b[1;34m'multilabel'\u001b[0m\u001b[1;33m)\u001b[0m\u001b[1;33m:\u001b[0m\u001b[1;33m\u001b[0m\u001b[1;33m\u001b[0m\u001b[0m\n",
      "\u001b[1;32m~\\anaconda3\\lib\\site-packages\\sklearn\\metrics\\_classification.py\u001b[0m in \u001b[0;36m_check_targets\u001b[1;34m(y_true, y_pred)\u001b[0m\n\u001b[0;32m     88\u001b[0m     \u001b[1;32mif\u001b[0m \u001b[0mlen\u001b[0m\u001b[1;33m(\u001b[0m\u001b[0my_type\u001b[0m\u001b[1;33m)\u001b[0m \u001b[1;33m>\u001b[0m \u001b[1;36m1\u001b[0m\u001b[1;33m:\u001b[0m\u001b[1;33m\u001b[0m\u001b[1;33m\u001b[0m\u001b[0m\n\u001b[0;32m     89\u001b[0m         raise ValueError(\"Classification metrics can't handle a mix of {0} \"\n\u001b[1;32m---> 90\u001b[1;33m                          \"and {1} targets\".format(type_true, type_pred))\n\u001b[0m\u001b[0;32m     91\u001b[0m \u001b[1;33m\u001b[0m\u001b[0m\n\u001b[0;32m     92\u001b[0m     \u001b[1;31m# We can't have more than one value on y_type => The set is no more needed\u001b[0m\u001b[1;33m\u001b[0m\u001b[1;33m\u001b[0m\u001b[1;33m\u001b[0m\u001b[0m\n",
      "\u001b[1;31mValueError\u001b[0m: Classification metrics can't handle a mix of multiclass and continuous targets"
     ]
    }
   ],
   "source": [
    "#Checking accuracy (% accurate predictions) and MAE \n",
    "print(mean_absolute_error(val_y, preds))\n",
    "#print(accuracy_score(val_y.values, preds))"
   ]
  }
 ],
 "metadata": {
  "language_info": {
   "codemirror_mode": {
    "name": "ipython",
    "version": 3
   },
   "file_extension": ".py",
   "mimetype": "text/x-python",
   "name": "python",
   "nbconvert_exporter": "python",
   "pygments_lexer": "ipython3",
   "version": "3.7.6-final"
  },
  "orig_nbformat": 2,
  "kernelspec": {
   "name": "python37664bitbaseconda8323ff0e61ae4a6b8857dd46a341f977",
   "display_name": "Python 3.7.6 64-bit ('base': conda)"
  }
 },
 "nbformat": 4,
 "nbformat_minor": 2
}