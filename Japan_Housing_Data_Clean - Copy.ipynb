{
 "cells": [
  {
   "cell_type": "code",
   "execution_count": 1,
   "metadata": {},
   "outputs": [],
   "source": [
    "import pandas as pd\n",
    "#Dataimport\n",
    "data_link=\"https://raw.githubusercontent.com/Nicki-Bladal/Estimating_Japan_Real_Estate_Pricing_Machine_Learning/master/01.csv\"\n",
    "data_df = pd.read_csv(data_link,parse_dates=True,index_col=\"No\")"
   ]
  },
  {
   "cell_type": "code",
   "execution_count": 2,
   "metadata": {
    "tags": []
   },
   "outputs": [
    {
     "output_type": "stream",
     "name": "stdout",
     "text": "<class 'pandas.core.frame.DataFrame'>\nInt64Index: 186238 entries, 1 to 186238\nData columns (total 37 columns):\n #   Column                       Non-Null Count   Dtype  \n---  ------                       --------------   -----  \n 0   Type                         186238 non-null  object \n 1   Region                       133069 non-null  object \n 2   MunicipalityCode             186238 non-null  int64  \n 3   Prefecture                   186238 non-null  object \n 4   Municipality                 186238 non-null  object \n 5   DistrictName                 183567 non-null  object \n 6   NearestStation               145929 non-null  object \n 7   TimeToNearestStation         144490 non-null  object \n 8   MinTimeToNearestStation      144490 non-null  float64\n 9   MaxTimeToNearestStation      140917 non-null  float64\n 10  TradePrice                   186238 non-null  int64  \n 11  FloorPlan                    20486 non-null   object \n 12  Area                         186238 non-null  int64  \n 13  AreaIsGreaterFlag            186238 non-null  int64  \n 14  UnitPrice                    66260 non-null   float64\n 15  PricePerTsubo                66260 non-null   float64\n 16  LandShape                    132674 non-null  object \n 17  Frontage                     125257 non-null  float64\n 18  FrontageIsGreaterFlag        186238 non-null  bool   \n 19  TotalFloorArea               62490 non-null   float64\n 20  TotalFloorAreaIsGreaterFlag  186238 non-null  int64  \n 21  BuildingYear                 81078 non-null   float64\n 22  PrewarBuilding               186238 non-null  int64  \n 23  Structure                    81430 non-null   object \n 24  Use                          81249 non-null   object \n 25  Purpose                      56882 non-null   object \n 26  Direction                    132631 non-null  object \n 27  Classification               129636 non-null  object \n 28  Breadth                      128012 non-null  float64\n 29  CityPlanning                 152003 non-null  object \n 30  CoverageRatio                140562 non-null  float64\n 31  FloorAreaRatio               140562 non-null  float64\n 32  Period                       186238 non-null  object \n 33  Year                         186238 non-null  int64  \n 34  Quarter                      186238 non-null  int64  \n 35  Renovation                   19731 non-null   object \n 36  Remarks                      6550 non-null    object \ndtypes: bool(1), float64(10), int64(8), object(18)\nmemory usage: 52.8+ MB\nNone\n"
    }
   ],
   "source": [
    "#Checking datatypes and non-null counts\n",
    "print(data_df.info())"
   ]
  },
  {
   "cell_type": "markdown",
   "metadata": {},
   "source": [
    "Removing obvious problematic features\n",
    "-"
   ]
  },
  {
   "cell_type": "code",
   "execution_count": 3,
   "metadata": {},
   "outputs": [],
   "source": [
    "#TimeToNearestStation and MaxTimeToNearestStation are removed not to have 3 time factors\n",
    "del data_df['MaxTimeToNearestStation']\n",
    "del data_df['TimeToNearestStation']    \n",
    "\n",
    "#Municipality is dropped as Municipality code will suffice\n",
    "del data_df['Municipality']\n",
    "\n",
    "#Period is removed as Year + Quarter contain same info\n",
    "del data_df['Period']\n",
    "\n",
    "#All data comes from same prefecture which is therefore kept out\n",
    "del data_df['Prefecture']"
   ]
  },
  {
   "cell_type": "code",
   "execution_count": 4,
   "metadata": {},
   "outputs": [],
   "source": [
    "# TotalFloorAreaIsGreaterFlag and FrontageIsGreaterFlag are always True and is therefore removed\n",
    "data_df.TotalFloorAreaIsGreaterFlag.notnull().mean()\n",
    "\n",
    "del data_df['TotalFloorAreaIsGreaterFlag']\n",
    "del data_df['FrontageIsGreaterFlag']"
   ]
  },
  {
   "cell_type": "markdown",
   "metadata": {},
   "source": [
    "Addressing features with few observations\n",
    "-"
   ]
  },
  {
   "cell_type": "code",
   "execution_count": 5,
   "metadata": {},
   "outputs": [],
   "source": [
    "import numpy as np\n",
    "#Remarks has very few values we inspect it\n",
    "data_df.Remarks.value_counts()\n",
    "\n",
    "# Turns out that a missing remark in most case equals \"no remarks\" (which is a positive value) therefor we input that value\n",
    "\n",
    "data_df.Remarks = data_df.Remarks.replace(np.nan, 'No remarks', regex=True)"
   ]
  },
  {
   "cell_type": "code",
   "execution_count": 6,
   "metadata": {},
   "outputs": [],
   "source": [
    "#FloorPlan has very few values we inspect it\n",
    "data_df.FloorPlan.value_counts()\n",
    "\n",
    "# Missing value for floorplan is hard to imput - therefor we put in the value missing, as not to assume a specific floorplan\n",
    "data_df.FloorPlan = data_df.FloorPlan.replace(np.nan, 'Unknown', regex=True)"
   ]
  },
  {
   "cell_type": "code",
   "execution_count": 7,
   "metadata": {},
   "outputs": [],
   "source": [
    "#FloorPlan has very few values we inspect it\n",
    "data_df.Renovation.value_counts()\n",
    "\n",
    "# We put in the value unknown, for na in Renovation\n",
    "data_df.Renovation = data_df.Renovation.replace(np.nan, 'Unknown', regex=True)"
   ]
  },
  {
   "cell_type": "code",
   "execution_count": 8,
   "metadata": {},
   "outputs": [
    {
     "output_type": "display_data",
     "data": {
      "text/plain": "<Figure size 432x288 with 1 Axes>",
      "image/svg+xml": "<?xml version=\"1.0\" encoding=\"utf-8\" standalone=\"no\"?>\r\n<!DOCTYPE svg PUBLIC \"-//W3C//DTD SVG 1.1//EN\"\r\n  \"http://www.w3.org/Graphics/SVG/1.1/DTD/svg11.dtd\">\r\n<!-- Created with matplotlib (https://matplotlib.org/) -->\r\n<svg height=\"248.518125pt\" version=\"1.1\" viewBox=\"0 0 388.0125 248.518125\" width=\"388.0125pt\" xmlns=\"http://www.w3.org/2000/svg\" xmlns:xlink=\"http://www.w3.org/1999/xlink\">\r\n <defs>\r\n  <style type=\"text/css\">\r\n*{stroke-linecap:butt;stroke-linejoin:round;}\r\n  </style>\r\n </defs>\r\n <g id=\"figure_1\">\r\n  <g id=\"patch_1\">\r\n   <path d=\"M 0 248.518125 \r\nL 388.0125 248.518125 \r\nL 388.0125 0 \r\nL 0 0 \r\nz\r\n\" style=\"fill:none;\"/>\r\n  </g>\r\n  <g id=\"axes_1\">\r\n   <g id=\"patch_2\">\r\n    <path d=\"M 46.0125 224.64 \r\nL 380.8125 224.64 \r\nL 380.8125 7.2 \r\nL 46.0125 7.2 \r\nz\r\n\" style=\"fill:#ffffff;\"/>\r\n   </g>\r\n   <g id=\"patch_3\">\r\n    <path clip-path=\"url(#p2589afb7f3)\" d=\"M 61.230682 224.64 \r\nL 67.317955 224.64 \r\nL 67.317955 17.554286 \r\nL 61.230682 17.554286 \r\nz\r\n\" style=\"fill:#0000ff;opacity:0.5;\"/>\r\n   </g>\r\n   <g id=\"patch_4\">\r\n    <path clip-path=\"url(#p2589afb7f3)\" d=\"M 67.317955 224.64 \r\nL 73.405227 224.64 \r\nL 73.405227 164.111717 \r\nL 67.317955 164.111717 \r\nz\r\n\" style=\"fill:#0000ff;opacity:0.5;\"/>\r\n   </g>\r\n   <g id=\"patch_5\">\r\n    <path clip-path=\"url(#p2589afb7f3)\" d=\"M 73.405227 224.64 \r\nL 79.4925 224.64 \r\nL 79.4925 215.929622 \r\nL 73.405227 215.929622 \r\nz\r\n\" style=\"fill:#0000ff;opacity:0.5;\"/>\r\n   </g>\r\n   <g id=\"patch_6\">\r\n    <path clip-path=\"url(#p2589afb7f3)\" d=\"M 79.4925 224.64 \r\nL 85.579773 224.64 \r\nL 85.579773 221.769792 \r\nL 79.4925 221.769792 \r\nz\r\n\" style=\"fill:#0000ff;opacity:0.5;\"/>\r\n   </g>\r\n   <g id=\"patch_7\">\r\n    <path clip-path=\"url(#p2589afb7f3)\" d=\"M 85.579773 224.64 \r\nL 91.667045 224.64 \r\nL 91.667045 223.148217 \r\nL 85.579773 223.148217 \r\nz\r\n\" style=\"fill:#0000ff;opacity:0.5;\"/>\r\n   </g>\r\n   <g id=\"patch_8\">\r\n    <path clip-path=\"url(#p2589afb7f3)\" d=\"M 91.667045 224.64 \r\nL 97.754318 224.64 \r\nL 97.754318 223.674196 \r\nL 91.667045 223.674196 \r\nz\r\n\" style=\"fill:#0000ff;opacity:0.5;\"/>\r\n   </g>\r\n   <g id=\"patch_9\">\r\n    <path clip-path=\"url(#p2589afb7f3)\" d=\"M 97.754318 224.64 \r\nL 103.841591 224.64 \r\nL 103.841591 224.032405 \r\nL 97.754318 224.032405 \r\nz\r\n\" style=\"fill:#0000ff;opacity:0.5;\"/>\r\n   </g>\r\n   <g id=\"patch_10\">\r\n    <path clip-path=\"url(#p2589afb7f3)\" d=\"M 103.841591 224.64 \r\nL 109.928864 224.64 \r\nL 109.928864 224.213776 \r\nL 103.841591 224.213776 \r\nz\r\n\" style=\"fill:#0000ff;opacity:0.5;\"/>\r\n   </g>\r\n   <g id=\"patch_11\">\r\n    <path clip-path=\"url(#p2589afb7f3)\" d=\"M 109.928864 224.64 \r\nL 116.016136 224.64 \r\nL 116.016136 224.44956 \r\nL 109.928864 224.44956 \r\nz\r\n\" style=\"fill:#0000ff;opacity:0.5;\"/>\r\n   </g>\r\n   <g id=\"patch_12\">\r\n    <path clip-path=\"url(#p2589afb7f3)\" d=\"M 116.016136 224.64 \r\nL 122.103409 224.64 \r\nL 122.103409 224.508505 \r\nL 116.016136 224.508505 \r\nz\r\n\" style=\"fill:#0000ff;opacity:0.5;\"/>\r\n   </g>\r\n   <g id=\"patch_13\">\r\n    <path clip-path=\"url(#p2589afb7f3)\" d=\"M 122.103409 224.64 \r\nL 128.190682 224.64 \r\nL 128.190682 224.594657 \r\nL 122.103409 224.594657 \r\nz\r\n\" style=\"fill:#0000ff;opacity:0.5;\"/>\r\n   </g>\r\n   <g id=\"patch_14\">\r\n    <path clip-path=\"url(#p2589afb7f3)\" d=\"M 128.190682 224.64 \r\nL 134.277955 224.64 \r\nL 134.277955 224.558383 \r\nL 128.190682 224.558383 \r\nz\r\n\" style=\"fill:#0000ff;opacity:0.5;\"/>\r\n   </g>\r\n   <g id=\"patch_15\">\r\n    <path clip-path=\"url(#p2589afb7f3)\" d=\"M 134.277955 224.64 \r\nL 140.365227 224.64 \r\nL 140.365227 224.612794 \r\nL 134.277955 224.612794 \r\nz\r\n\" style=\"fill:#0000ff;opacity:0.5;\"/>\r\n   </g>\r\n   <g id=\"patch_16\">\r\n    <path clip-path=\"url(#p2589afb7f3)\" d=\"M 140.365227 224.64 \r\nL 146.4525 224.64 \r\nL 146.4525 224.603726 \r\nL 140.365227 224.603726 \r\nz\r\n\" style=\"fill:#0000ff;opacity:0.5;\"/>\r\n   </g>\r\n   <g id=\"patch_17\">\r\n    <path clip-path=\"url(#p2589afb7f3)\" d=\"M 146.4525 224.64 \r\nL 152.539773 224.64 \r\nL 152.539773 224.635466 \r\nL 146.4525 224.635466 \r\nz\r\n\" style=\"fill:#0000ff;opacity:0.5;\"/>\r\n   </g>\r\n   <g id=\"patch_18\">\r\n    <path clip-path=\"url(#p2589afb7f3)\" d=\"M 152.539773 224.64 \r\nL 158.627045 224.64 \r\nL 158.627045 224.612794 \r\nL 152.539773 224.612794 \r\nz\r\n\" style=\"fill:#0000ff;opacity:0.5;\"/>\r\n   </g>\r\n   <g id=\"patch_19\">\r\n    <path clip-path=\"url(#p2589afb7f3)\" d=\"M 158.627045 224.64 \r\nL 164.714318 224.64 \r\nL 164.714318 224.630931 \r\nL 158.627045 224.630931 \r\nz\r\n\" style=\"fill:#0000ff;opacity:0.5;\"/>\r\n   </g>\r\n   <g id=\"patch_20\">\r\n    <path clip-path=\"url(#p2589afb7f3)\" d=\"M 164.714318 224.64 \r\nL 170.801591 224.64 \r\nL 170.801591 224.635466 \r\nL 164.714318 224.635466 \r\nz\r\n\" style=\"fill:#0000ff;opacity:0.5;\"/>\r\n   </g>\r\n   <g id=\"patch_21\">\r\n    <path clip-path=\"url(#p2589afb7f3)\" d=\"M 170.801591 224.64 \r\nL 176.888864 224.64 \r\nL 176.888864 224.635466 \r\nL 170.801591 224.635466 \r\nz\r\n\" style=\"fill:#0000ff;opacity:0.5;\"/>\r\n   </g>\r\n   <g id=\"patch_22\">\r\n    <path clip-path=\"url(#p2589afb7f3)\" d=\"M 176.888864 224.64 \r\nL 182.976136 224.64 \r\nL 182.976136 224.630931 \r\nL 176.888864 224.630931 \r\nz\r\n\" style=\"fill:#0000ff;opacity:0.5;\"/>\r\n   </g>\r\n   <g id=\"patch_23\">\r\n    <path clip-path=\"url(#p2589afb7f3)\" d=\"M 182.976136 224.64 \r\nL 189.063409 224.64 \r\nL 189.063409 224.617329 \r\nL 182.976136 224.617329 \r\nz\r\n\" style=\"fill:#0000ff;opacity:0.5;\"/>\r\n   </g>\r\n   <g id=\"patch_24\">\r\n    <path clip-path=\"url(#p2589afb7f3)\" d=\"M 189.063409 224.64 \r\nL 195.150682 224.64 \r\nL 195.150682 224.635466 \r\nL 189.063409 224.635466 \r\nz\r\n\" style=\"fill:#0000ff;opacity:0.5;\"/>\r\n   </g>\r\n   <g id=\"patch_25\">\r\n    <path clip-path=\"url(#p2589afb7f3)\" d=\"M 195.150682 224.64 \r\nL 201.237955 224.64 \r\nL 201.237955 224.630931 \r\nL 195.150682 224.630931 \r\nz\r\n\" style=\"fill:#0000ff;opacity:0.5;\"/>\r\n   </g>\r\n   <g id=\"patch_26\">\r\n    <path clip-path=\"url(#p2589afb7f3)\" d=\"M 201.237955 224.64 \r\nL 207.325227 224.64 \r\nL 207.325227 224.630931 \r\nL 201.237955 224.630931 \r\nz\r\n\" style=\"fill:#0000ff;opacity:0.5;\"/>\r\n   </g>\r\n   <g id=\"patch_27\">\r\n    <path clip-path=\"url(#p2589afb7f3)\" d=\"M 207.325227 224.64 \r\nL 213.4125 224.64 \r\nL 213.4125 224.635466 \r\nL 207.325227 224.635466 \r\nz\r\n\" style=\"fill:#0000ff;opacity:0.5;\"/>\r\n   </g>\r\n   <g id=\"patch_28\">\r\n    <path clip-path=\"url(#p2589afb7f3)\" d=\"M 213.4125 224.64 \r\nL 219.499773 224.64 \r\nL 219.499773 224.64 \r\nL 213.4125 224.64 \r\nz\r\n\" style=\"fill:#0000ff;opacity:0.5;\"/>\r\n   </g>\r\n   <g id=\"patch_29\">\r\n    <path clip-path=\"url(#p2589afb7f3)\" d=\"M 219.499773 224.64 \r\nL 225.587045 224.64 \r\nL 225.587045 224.635466 \r\nL 219.499773 224.635466 \r\nz\r\n\" style=\"fill:#0000ff;opacity:0.5;\"/>\r\n   </g>\r\n   <g id=\"patch_30\">\r\n    <path clip-path=\"url(#p2589afb7f3)\" d=\"M 225.587045 224.64 \r\nL 231.674318 224.64 \r\nL 231.674318 224.621863 \r\nL 225.587045 224.621863 \r\nz\r\n\" style=\"fill:#0000ff;opacity:0.5;\"/>\r\n   </g>\r\n   <g id=\"patch_31\">\r\n    <path clip-path=\"url(#p2589afb7f3)\" d=\"M 231.674318 224.64 \r\nL 237.761591 224.64 \r\nL 237.761591 224.64 \r\nL 231.674318 224.64 \r\nz\r\n\" style=\"fill:#0000ff;opacity:0.5;\"/>\r\n   </g>\r\n   <g id=\"patch_32\">\r\n    <path clip-path=\"url(#p2589afb7f3)\" d=\"M 237.761591 224.64 \r\nL 243.848864 224.64 \r\nL 243.848864 224.64 \r\nL 237.761591 224.64 \r\nz\r\n\" style=\"fill:#0000ff;opacity:0.5;\"/>\r\n   </g>\r\n   <g id=\"patch_33\">\r\n    <path clip-path=\"url(#p2589afb7f3)\" d=\"M 243.848864 224.64 \r\nL 249.936136 224.64 \r\nL 249.936136 224.64 \r\nL 243.848864 224.64 \r\nz\r\n\" style=\"fill:#0000ff;opacity:0.5;\"/>\r\n   </g>\r\n   <g id=\"patch_34\">\r\n    <path clip-path=\"url(#p2589afb7f3)\" d=\"M 249.936136 224.64 \r\nL 256.023409 224.64 \r\nL 256.023409 224.64 \r\nL 249.936136 224.64 \r\nz\r\n\" style=\"fill:#0000ff;opacity:0.5;\"/>\r\n   </g>\r\n   <g id=\"patch_35\">\r\n    <path clip-path=\"url(#p2589afb7f3)\" d=\"M 256.023409 224.64 \r\nL 262.110682 224.64 \r\nL 262.110682 224.64 \r\nL 256.023409 224.64 \r\nz\r\n\" style=\"fill:#0000ff;opacity:0.5;\"/>\r\n   </g>\r\n   <g id=\"patch_36\">\r\n    <path clip-path=\"url(#p2589afb7f3)\" d=\"M 262.110682 224.64 \r\nL 268.197955 224.64 \r\nL 268.197955 224.635466 \r\nL 262.110682 224.635466 \r\nz\r\n\" style=\"fill:#0000ff;opacity:0.5;\"/>\r\n   </g>\r\n   <g id=\"patch_37\">\r\n    <path clip-path=\"url(#p2589afb7f3)\" d=\"M 268.197955 224.64 \r\nL 274.285227 224.64 \r\nL 274.285227 224.64 \r\nL 268.197955 224.64 \r\nz\r\n\" style=\"fill:#0000ff;opacity:0.5;\"/>\r\n   </g>\r\n   <g id=\"patch_38\">\r\n    <path clip-path=\"url(#p2589afb7f3)\" d=\"M 274.285227 224.64 \r\nL 280.3725 224.64 \r\nL 280.3725 224.64 \r\nL 274.285227 224.64 \r\nz\r\n\" style=\"fill:#0000ff;opacity:0.5;\"/>\r\n   </g>\r\n   <g id=\"patch_39\">\r\n    <path clip-path=\"url(#p2589afb7f3)\" d=\"M 280.3725 224.64 \r\nL 286.459773 224.64 \r\nL 286.459773 224.64 \r\nL 280.3725 224.64 \r\nz\r\n\" style=\"fill:#0000ff;opacity:0.5;\"/>\r\n   </g>\r\n   <g id=\"patch_40\">\r\n    <path clip-path=\"url(#p2589afb7f3)\" d=\"M 286.459773 224.64 \r\nL 292.547045 224.64 \r\nL 292.547045 224.64 \r\nL 286.459773 224.64 \r\nz\r\n\" style=\"fill:#0000ff;opacity:0.5;\"/>\r\n   </g>\r\n   <g id=\"patch_41\">\r\n    <path clip-path=\"url(#p2589afb7f3)\" d=\"M 292.547045 224.64 \r\nL 298.634318 224.64 \r\nL 298.634318 224.635466 \r\nL 292.547045 224.635466 \r\nz\r\n\" style=\"fill:#0000ff;opacity:0.5;\"/>\r\n   </g>\r\n   <g id=\"patch_42\">\r\n    <path clip-path=\"url(#p2589afb7f3)\" d=\"M 298.634318 224.64 \r\nL 304.721591 224.64 \r\nL 304.721591 224.64 \r\nL 298.634318 224.64 \r\nz\r\n\" style=\"fill:#0000ff;opacity:0.5;\"/>\r\n   </g>\r\n   <g id=\"patch_43\">\r\n    <path clip-path=\"url(#p2589afb7f3)\" d=\"M 304.721591 224.64 \r\nL 310.808864 224.64 \r\nL 310.808864 224.64 \r\nL 304.721591 224.64 \r\nz\r\n\" style=\"fill:#0000ff;opacity:0.5;\"/>\r\n   </g>\r\n   <g id=\"patch_44\">\r\n    <path clip-path=\"url(#p2589afb7f3)\" d=\"M 310.808864 224.64 \r\nL 316.896136 224.64 \r\nL 316.896136 224.635466 \r\nL 310.808864 224.635466 \r\nz\r\n\" style=\"fill:#0000ff;opacity:0.5;\"/>\r\n   </g>\r\n   <g id=\"patch_45\">\r\n    <path clip-path=\"url(#p2589afb7f3)\" d=\"M 316.896136 224.64 \r\nL 322.983409 224.64 \r\nL 322.983409 224.64 \r\nL 316.896136 224.64 \r\nz\r\n\" style=\"fill:#0000ff;opacity:0.5;\"/>\r\n   </g>\r\n   <g id=\"patch_46\">\r\n    <path clip-path=\"url(#p2589afb7f3)\" d=\"M 322.983409 224.64 \r\nL 329.070682 224.64 \r\nL 329.070682 224.64 \r\nL 322.983409 224.64 \r\nz\r\n\" style=\"fill:#0000ff;opacity:0.5;\"/>\r\n   </g>\r\n   <g id=\"patch_47\">\r\n    <path clip-path=\"url(#p2589afb7f3)\" d=\"M 329.070682 224.64 \r\nL 335.157955 224.64 \r\nL 335.157955 224.64 \r\nL 329.070682 224.64 \r\nz\r\n\" style=\"fill:#0000ff;opacity:0.5;\"/>\r\n   </g>\r\n   <g id=\"patch_48\">\r\n    <path clip-path=\"url(#p2589afb7f3)\" d=\"M 335.157955 224.64 \r\nL 341.245227 224.64 \r\nL 341.245227 224.64 \r\nL 335.157955 224.64 \r\nz\r\n\" style=\"fill:#0000ff;opacity:0.5;\"/>\r\n   </g>\r\n   <g id=\"patch_49\">\r\n    <path clip-path=\"url(#p2589afb7f3)\" d=\"M 341.245227 224.64 \r\nL 347.3325 224.64 \r\nL 347.3325 224.64 \r\nL 341.245227 224.64 \r\nz\r\n\" style=\"fill:#0000ff;opacity:0.5;\"/>\r\n   </g>\r\n   <g id=\"patch_50\">\r\n    <path clip-path=\"url(#p2589afb7f3)\" d=\"M 347.3325 224.64 \r\nL 353.419773 224.64 \r\nL 353.419773 224.64 \r\nL 347.3325 224.64 \r\nz\r\n\" style=\"fill:#0000ff;opacity:0.5;\"/>\r\n   </g>\r\n   <g id=\"patch_51\">\r\n    <path clip-path=\"url(#p2589afb7f3)\" d=\"M 353.419773 224.64 \r\nL 359.507045 224.64 \r\nL 359.507045 224.64 \r\nL 353.419773 224.64 \r\nz\r\n\" style=\"fill:#0000ff;opacity:0.5;\"/>\r\n   </g>\r\n   <g id=\"patch_52\">\r\n    <path clip-path=\"url(#p2589afb7f3)\" d=\"M 359.507045 224.64 \r\nL 365.594318 224.64 \r\nL 365.594318 224.635466 \r\nL 359.507045 224.635466 \r\nz\r\n\" style=\"fill:#0000ff;opacity:0.5;\"/>\r\n   </g>\r\n   <g id=\"matplotlib.axis_1\">\r\n    <g id=\"xtick_1\">\r\n     <g id=\"line2d_1\">\r\n      <defs>\r\n       <path d=\"M 0 0 \r\nL 0 3.5 \r\n\" id=\"ma1b3e9076e\" style=\"stroke:#000000;stroke-width:0.8;\"/>\r\n      </defs>\r\n      <g>\r\n       <use style=\"stroke:#000000;stroke-width:0.8;\" x=\"61.16726\" xlink:href=\"#ma1b3e9076e\" y=\"224.64\"/>\r\n      </g>\r\n     </g>\r\n     <g id=\"text_1\">\r\n      <!-- 0 -->\r\n      <defs>\r\n       <path d=\"M 31.78125 66.40625 \r\nQ 24.171875 66.40625 20.328125 58.90625 \r\nQ 16.5 51.421875 16.5 36.375 \r\nQ 16.5 21.390625 20.328125 13.890625 \r\nQ 24.171875 6.390625 31.78125 6.390625 \r\nQ 39.453125 6.390625 43.28125 13.890625 \r\nQ 47.125 21.390625 47.125 36.375 \r\nQ 47.125 51.421875 43.28125 58.90625 \r\nQ 39.453125 66.40625 31.78125 66.40625 \r\nz\r\nM 31.78125 74.21875 \r\nQ 44.046875 74.21875 50.515625 64.515625 \r\nQ 56.984375 54.828125 56.984375 36.375 \r\nQ 56.984375 17.96875 50.515625 8.265625 \r\nQ 44.046875 -1.421875 31.78125 -1.421875 \r\nQ 19.53125 -1.421875 13.0625 8.265625 \r\nQ 6.59375 17.96875 6.59375 36.375 \r\nQ 6.59375 54.828125 13.0625 64.515625 \r\nQ 19.53125 74.21875 31.78125 74.21875 \r\nz\r\n\" id=\"DejaVuSans-48\"/>\r\n      </defs>\r\n      <g transform=\"translate(57.98601 239.238438)scale(0.1 -0.1)\">\r\n       <use xlink:href=\"#DejaVuSans-48\"/>\r\n      </g>\r\n     </g>\r\n    </g>\r\n    <g id=\"xtick_2\">\r\n     <g id=\"line2d_2\">\r\n      <g>\r\n       <use style=\"stroke:#000000;stroke-width:0.8;\" x=\"111.905103\" xlink:href=\"#ma1b3e9076e\" y=\"224.64\"/>\r\n      </g>\r\n     </g>\r\n     <g id=\"text_2\">\r\n      <!-- 20 -->\r\n      <defs>\r\n       <path d=\"M 19.1875 8.296875 \r\nL 53.609375 8.296875 \r\nL 53.609375 0 \r\nL 7.328125 0 \r\nL 7.328125 8.296875 \r\nQ 12.9375 14.109375 22.625 23.890625 \r\nQ 32.328125 33.6875 34.8125 36.53125 \r\nQ 39.546875 41.84375 41.421875 45.53125 \r\nQ 43.3125 49.21875 43.3125 52.78125 \r\nQ 43.3125 58.59375 39.234375 62.25 \r\nQ 35.15625 65.921875 28.609375 65.921875 \r\nQ 23.96875 65.921875 18.8125 64.3125 \r\nQ 13.671875 62.703125 7.8125 59.421875 \r\nL 7.8125 69.390625 \r\nQ 13.765625 71.78125 18.9375 73 \r\nQ 24.125 74.21875 28.421875 74.21875 \r\nQ 39.75 74.21875 46.484375 68.546875 \r\nQ 53.21875 62.890625 53.21875 53.421875 \r\nQ 53.21875 48.921875 51.53125 44.890625 \r\nQ 49.859375 40.875 45.40625 35.40625 \r\nQ 44.1875 33.984375 37.640625 27.21875 \r\nQ 31.109375 20.453125 19.1875 8.296875 \r\nz\r\n\" id=\"DejaVuSans-50\"/>\r\n      </defs>\r\n      <g transform=\"translate(105.542603 239.238438)scale(0.1 -0.1)\">\r\n       <use xlink:href=\"#DejaVuSans-50\"/>\r\n       <use x=\"63.623047\" xlink:href=\"#DejaVuSans-48\"/>\r\n      </g>\r\n     </g>\r\n    </g>\r\n    <g id=\"xtick_3\">\r\n     <g id=\"line2d_3\">\r\n      <g>\r\n       <use style=\"stroke:#000000;stroke-width:0.8;\" x=\"162.642946\" xlink:href=\"#ma1b3e9076e\" y=\"224.64\"/>\r\n      </g>\r\n     </g>\r\n     <g id=\"text_3\">\r\n      <!-- 40 -->\r\n      <defs>\r\n       <path d=\"M 37.796875 64.3125 \r\nL 12.890625 25.390625 \r\nL 37.796875 25.390625 \r\nz\r\nM 35.203125 72.90625 \r\nL 47.609375 72.90625 \r\nL 47.609375 25.390625 \r\nL 58.015625 25.390625 \r\nL 58.015625 17.1875 \r\nL 47.609375 17.1875 \r\nL 47.609375 0 \r\nL 37.796875 0 \r\nL 37.796875 17.1875 \r\nL 4.890625 17.1875 \r\nL 4.890625 26.703125 \r\nz\r\n\" id=\"DejaVuSans-52\"/>\r\n      </defs>\r\n      <g transform=\"translate(156.280446 239.238438)scale(0.1 -0.1)\">\r\n       <use xlink:href=\"#DejaVuSans-52\"/>\r\n       <use x=\"63.623047\" xlink:href=\"#DejaVuSans-48\"/>\r\n      </g>\r\n     </g>\r\n    </g>\r\n    <g id=\"xtick_4\">\r\n     <g id=\"line2d_4\">\r\n      <g>\r\n       <use style=\"stroke:#000000;stroke-width:0.8;\" x=\"213.380789\" xlink:href=\"#ma1b3e9076e\" y=\"224.64\"/>\r\n      </g>\r\n     </g>\r\n     <g id=\"text_4\">\r\n      <!-- 60 -->\r\n      <defs>\r\n       <path d=\"M 33.015625 40.375 \r\nQ 26.375 40.375 22.484375 35.828125 \r\nQ 18.609375 31.296875 18.609375 23.390625 \r\nQ 18.609375 15.53125 22.484375 10.953125 \r\nQ 26.375 6.390625 33.015625 6.390625 \r\nQ 39.65625 6.390625 43.53125 10.953125 \r\nQ 47.40625 15.53125 47.40625 23.390625 \r\nQ 47.40625 31.296875 43.53125 35.828125 \r\nQ 39.65625 40.375 33.015625 40.375 \r\nz\r\nM 52.59375 71.296875 \r\nL 52.59375 62.3125 \r\nQ 48.875 64.0625 45.09375 64.984375 \r\nQ 41.3125 65.921875 37.59375 65.921875 \r\nQ 27.828125 65.921875 22.671875 59.328125 \r\nQ 17.53125 52.734375 16.796875 39.40625 \r\nQ 19.671875 43.65625 24.015625 45.921875 \r\nQ 28.375 48.1875 33.59375 48.1875 \r\nQ 44.578125 48.1875 50.953125 41.515625 \r\nQ 57.328125 34.859375 57.328125 23.390625 \r\nQ 57.328125 12.15625 50.6875 5.359375 \r\nQ 44.046875 -1.421875 33.015625 -1.421875 \r\nQ 20.359375 -1.421875 13.671875 8.265625 \r\nQ 6.984375 17.96875 6.984375 36.375 \r\nQ 6.984375 53.65625 15.1875 63.9375 \r\nQ 23.390625 74.21875 37.203125 74.21875 \r\nQ 40.921875 74.21875 44.703125 73.484375 \r\nQ 48.484375 72.75 52.59375 71.296875 \r\nz\r\n\" id=\"DejaVuSans-54\"/>\r\n      </defs>\r\n      <g transform=\"translate(207.018289 239.238438)scale(0.1 -0.1)\">\r\n       <use xlink:href=\"#DejaVuSans-54\"/>\r\n       <use x=\"63.623047\" xlink:href=\"#DejaVuSans-48\"/>\r\n      </g>\r\n     </g>\r\n    </g>\r\n    <g id=\"xtick_5\">\r\n     <g id=\"line2d_5\">\r\n      <g>\r\n       <use style=\"stroke:#000000;stroke-width:0.8;\" x=\"264.118632\" xlink:href=\"#ma1b3e9076e\" y=\"224.64\"/>\r\n      </g>\r\n     </g>\r\n     <g id=\"text_5\">\r\n      <!-- 80 -->\r\n      <defs>\r\n       <path d=\"M 31.78125 34.625 \r\nQ 24.75 34.625 20.71875 30.859375 \r\nQ 16.703125 27.09375 16.703125 20.515625 \r\nQ 16.703125 13.921875 20.71875 10.15625 \r\nQ 24.75 6.390625 31.78125 6.390625 \r\nQ 38.8125 6.390625 42.859375 10.171875 \r\nQ 46.921875 13.96875 46.921875 20.515625 \r\nQ 46.921875 27.09375 42.890625 30.859375 \r\nQ 38.875 34.625 31.78125 34.625 \r\nz\r\nM 21.921875 38.8125 \r\nQ 15.578125 40.375 12.03125 44.71875 \r\nQ 8.5 49.078125 8.5 55.328125 \r\nQ 8.5 64.0625 14.71875 69.140625 \r\nQ 20.953125 74.21875 31.78125 74.21875 \r\nQ 42.671875 74.21875 48.875 69.140625 \r\nQ 55.078125 64.0625 55.078125 55.328125 \r\nQ 55.078125 49.078125 51.53125 44.71875 \r\nQ 48 40.375 41.703125 38.8125 \r\nQ 48.828125 37.15625 52.796875 32.3125 \r\nQ 56.78125 27.484375 56.78125 20.515625 \r\nQ 56.78125 9.90625 50.3125 4.234375 \r\nQ 43.84375 -1.421875 31.78125 -1.421875 \r\nQ 19.734375 -1.421875 13.25 4.234375 \r\nQ 6.78125 9.90625 6.78125 20.515625 \r\nQ 6.78125 27.484375 10.78125 32.3125 \r\nQ 14.796875 37.15625 21.921875 38.8125 \r\nz\r\nM 18.3125 54.390625 \r\nQ 18.3125 48.734375 21.84375 45.5625 \r\nQ 25.390625 42.390625 31.78125 42.390625 \r\nQ 38.140625 42.390625 41.71875 45.5625 \r\nQ 45.3125 48.734375 45.3125 54.390625 \r\nQ 45.3125 60.0625 41.71875 63.234375 \r\nQ 38.140625 66.40625 31.78125 66.40625 \r\nQ 25.390625 66.40625 21.84375 63.234375 \r\nQ 18.3125 60.0625 18.3125 54.390625 \r\nz\r\n\" id=\"DejaVuSans-56\"/>\r\n      </defs>\r\n      <g transform=\"translate(257.756132 239.238438)scale(0.1 -0.1)\">\r\n       <use xlink:href=\"#DejaVuSans-56\"/>\r\n       <use x=\"63.623047\" xlink:href=\"#DejaVuSans-48\"/>\r\n      </g>\r\n     </g>\r\n    </g>\r\n    <g id=\"xtick_6\">\r\n     <g id=\"line2d_6\">\r\n      <g>\r\n       <use style=\"stroke:#000000;stroke-width:0.8;\" x=\"314.856475\" xlink:href=\"#ma1b3e9076e\" y=\"224.64\"/>\r\n      </g>\r\n     </g>\r\n     <g id=\"text_6\">\r\n      <!-- 100 -->\r\n      <defs>\r\n       <path d=\"M 12.40625 8.296875 \r\nL 28.515625 8.296875 \r\nL 28.515625 63.921875 \r\nL 10.984375 60.40625 \r\nL 10.984375 69.390625 \r\nL 28.421875 72.90625 \r\nL 38.28125 72.90625 \r\nL 38.28125 8.296875 \r\nL 54.390625 8.296875 \r\nL 54.390625 0 \r\nL 12.40625 0 \r\nz\r\n\" id=\"DejaVuSans-49\"/>\r\n      </defs>\r\n      <g transform=\"translate(305.312725 239.238438)scale(0.1 -0.1)\">\r\n       <use xlink:href=\"#DejaVuSans-49\"/>\r\n       <use x=\"63.623047\" xlink:href=\"#DejaVuSans-48\"/>\r\n       <use x=\"127.246094\" xlink:href=\"#DejaVuSans-48\"/>\r\n      </g>\r\n     </g>\r\n    </g>\r\n    <g id=\"xtick_7\">\r\n     <g id=\"line2d_7\">\r\n      <g>\r\n       <use style=\"stroke:#000000;stroke-width:0.8;\" x=\"365.594318\" xlink:href=\"#ma1b3e9076e\" y=\"224.64\"/>\r\n      </g>\r\n     </g>\r\n     <g id=\"text_7\">\r\n      <!-- 120 -->\r\n      <g transform=\"translate(356.050568 239.238438)scale(0.1 -0.1)\">\r\n       <use xlink:href=\"#DejaVuSans-49\"/>\r\n       <use x=\"63.623047\" xlink:href=\"#DejaVuSans-50\"/>\r\n       <use x=\"127.246094\" xlink:href=\"#DejaVuSans-48\"/>\r\n      </g>\r\n     </g>\r\n    </g>\r\n   </g>\r\n   <g id=\"matplotlib.axis_2\">\r\n    <g id=\"ytick_1\">\r\n     <g id=\"line2d_8\">\r\n      <defs>\r\n       <path d=\"M 0 0 \r\nL -3.5 0 \r\n\" id=\"m09cfbfa9c2\" style=\"stroke:#000000;stroke-width:0.8;\"/>\r\n      </defs>\r\n      <g>\r\n       <use style=\"stroke:#000000;stroke-width:0.8;\" x=\"46.0125\" xlink:href=\"#m09cfbfa9c2\" y=\"224.64\"/>\r\n      </g>\r\n     </g>\r\n     <g id=\"text_8\">\r\n      <!-- 0 -->\r\n      <g transform=\"translate(32.65 228.439219)scale(0.1 -0.1)\">\r\n       <use xlink:href=\"#DejaVuSans-48\"/>\r\n      </g>\r\n     </g>\r\n    </g>\r\n    <g id=\"ytick_2\">\r\n     <g id=\"line2d_9\">\r\n      <g>\r\n       <use style=\"stroke:#000000;stroke-width:0.8;\" x=\"46.0125\" xlink:href=\"#m09cfbfa9c2\" y=\"179.297066\"/>\r\n      </g>\r\n     </g>\r\n     <g id=\"text_9\">\r\n      <!-- 10000 -->\r\n      <g transform=\"translate(7.2 183.096285)scale(0.1 -0.1)\">\r\n       <use xlink:href=\"#DejaVuSans-49\"/>\r\n       <use x=\"63.623047\" xlink:href=\"#DejaVuSans-48\"/>\r\n       <use x=\"127.246094\" xlink:href=\"#DejaVuSans-48\"/>\r\n       <use x=\"190.869141\" xlink:href=\"#DejaVuSans-48\"/>\r\n       <use x=\"254.492188\" xlink:href=\"#DejaVuSans-48\"/>\r\n      </g>\r\n     </g>\r\n    </g>\r\n    <g id=\"ytick_3\">\r\n     <g id=\"line2d_10\">\r\n      <g>\r\n       <use style=\"stroke:#000000;stroke-width:0.8;\" x=\"46.0125\" xlink:href=\"#m09cfbfa9c2\" y=\"133.954132\"/>\r\n      </g>\r\n     </g>\r\n     <g id=\"text_10\">\r\n      <!-- 20000 -->\r\n      <g transform=\"translate(7.2 137.753351)scale(0.1 -0.1)\">\r\n       <use xlink:href=\"#DejaVuSans-50\"/>\r\n       <use x=\"63.623047\" xlink:href=\"#DejaVuSans-48\"/>\r\n       <use x=\"127.246094\" xlink:href=\"#DejaVuSans-48\"/>\r\n       <use x=\"190.869141\" xlink:href=\"#DejaVuSans-48\"/>\r\n       <use x=\"254.492188\" xlink:href=\"#DejaVuSans-48\"/>\r\n      </g>\r\n     </g>\r\n    </g>\r\n    <g id=\"ytick_4\">\r\n     <g id=\"line2d_11\">\r\n      <g>\r\n       <use style=\"stroke:#000000;stroke-width:0.8;\" x=\"46.0125\" xlink:href=\"#m09cfbfa9c2\" y=\"88.611198\"/>\r\n      </g>\r\n     </g>\r\n     <g id=\"text_11\">\r\n      <!-- 30000 -->\r\n      <defs>\r\n       <path d=\"M 40.578125 39.3125 \r\nQ 47.65625 37.796875 51.625 33 \r\nQ 55.609375 28.21875 55.609375 21.1875 \r\nQ 55.609375 10.40625 48.1875 4.484375 \r\nQ 40.765625 -1.421875 27.09375 -1.421875 \r\nQ 22.515625 -1.421875 17.65625 -0.515625 \r\nQ 12.796875 0.390625 7.625 2.203125 \r\nL 7.625 11.71875 \r\nQ 11.71875 9.328125 16.59375 8.109375 \r\nQ 21.484375 6.890625 26.8125 6.890625 \r\nQ 36.078125 6.890625 40.9375 10.546875 \r\nQ 45.796875 14.203125 45.796875 21.1875 \r\nQ 45.796875 27.640625 41.28125 31.265625 \r\nQ 36.765625 34.90625 28.71875 34.90625 \r\nL 20.21875 34.90625 \r\nL 20.21875 43.015625 \r\nL 29.109375 43.015625 \r\nQ 36.375 43.015625 40.234375 45.921875 \r\nQ 44.09375 48.828125 44.09375 54.296875 \r\nQ 44.09375 59.90625 40.109375 62.90625 \r\nQ 36.140625 65.921875 28.71875 65.921875 \r\nQ 24.65625 65.921875 20.015625 65.03125 \r\nQ 15.375 64.15625 9.8125 62.3125 \r\nL 9.8125 71.09375 \r\nQ 15.4375 72.65625 20.34375 73.4375 \r\nQ 25.25 74.21875 29.59375 74.21875 \r\nQ 40.828125 74.21875 47.359375 69.109375 \r\nQ 53.90625 64.015625 53.90625 55.328125 \r\nQ 53.90625 49.265625 50.4375 45.09375 \r\nQ 46.96875 40.921875 40.578125 39.3125 \r\nz\r\n\" id=\"DejaVuSans-51\"/>\r\n      </defs>\r\n      <g transform=\"translate(7.2 92.410416)scale(0.1 -0.1)\">\r\n       <use xlink:href=\"#DejaVuSans-51\"/>\r\n       <use x=\"63.623047\" xlink:href=\"#DejaVuSans-48\"/>\r\n       <use x=\"127.246094\" xlink:href=\"#DejaVuSans-48\"/>\r\n       <use x=\"190.869141\" xlink:href=\"#DejaVuSans-48\"/>\r\n       <use x=\"254.492188\" xlink:href=\"#DejaVuSans-48\"/>\r\n      </g>\r\n     </g>\r\n    </g>\r\n    <g id=\"ytick_5\">\r\n     <g id=\"line2d_12\">\r\n      <g>\r\n       <use style=\"stroke:#000000;stroke-width:0.8;\" x=\"46.0125\" xlink:href=\"#m09cfbfa9c2\" y=\"43.268264\"/>\r\n      </g>\r\n     </g>\r\n     <g id=\"text_12\">\r\n      <!-- 40000 -->\r\n      <g transform=\"translate(7.2 47.067482)scale(0.1 -0.1)\">\r\n       <use xlink:href=\"#DejaVuSans-52\"/>\r\n       <use x=\"63.623047\" xlink:href=\"#DejaVuSans-48\"/>\r\n       <use x=\"127.246094\" xlink:href=\"#DejaVuSans-48\"/>\r\n       <use x=\"190.869141\" xlink:href=\"#DejaVuSans-48\"/>\r\n       <use x=\"254.492188\" xlink:href=\"#DejaVuSans-48\"/>\r\n      </g>\r\n     </g>\r\n    </g>\r\n   </g>\r\n   <g id=\"patch_53\">\r\n    <path d=\"M 46.0125 224.64 \r\nL 46.0125 7.2 \r\n\" style=\"fill:none;stroke:#000000;stroke-linecap:square;stroke-linejoin:miter;stroke-width:0.8;\"/>\r\n   </g>\r\n   <g id=\"patch_54\">\r\n    <path d=\"M 380.8125 224.64 \r\nL 380.8125 7.2 \r\n\" style=\"fill:none;stroke:#000000;stroke-linecap:square;stroke-linejoin:miter;stroke-width:0.8;\"/>\r\n   </g>\r\n   <g id=\"patch_55\">\r\n    <path d=\"M 46.0125 224.64 \r\nL 380.8125 224.64 \r\n\" style=\"fill:none;stroke:#000000;stroke-linecap:square;stroke-linejoin:miter;stroke-width:0.8;\"/>\r\n   </g>\r\n   <g id=\"patch_56\">\r\n    <path d=\"M 46.0125 7.2 \r\nL 380.8125 7.2 \r\n\" style=\"fill:none;stroke:#000000;stroke-linecap:square;stroke-linejoin:miter;stroke-width:0.8;\"/>\r\n   </g>\r\n  </g>\r\n </g>\r\n <defs>\r\n  <clipPath id=\"p2589afb7f3\">\r\n   <rect height=\"217.44\" width=\"334.8\" x=\"46.0125\" y=\"7.2\"/>\r\n  </clipPath>\r\n </defs>\r\n</svg>\r\n",
      "image/png": "[encoded data removed]"
     },
     "metadata": {
      "needs_background": "light"
     }
    }
   ],
   "source": [
    "#Investigating Total floor Area divided with Area\n",
    "\n",
    "import matplotlib.mlab as mlab\n",
    "import matplotlib.pyplot as plt\n",
    "\n",
    "x = (data_df.Area / data_df.TotalFloorArea)\n",
    "num_bins = 50\n",
    "n, bins, patches = plt.hist(x, num_bins, facecolor='blue', alpha=0.5)\n",
    "plt.show()"
   ]
  },
  {
   "cell_type": "code",
   "execution_count": 9,
   "metadata": {
    "tags": []
   },
   "outputs": [
    {
     "output_type": "stream",
     "name": "stdout",
     "text": "Area is 2.26197300662067 times bigger than TotalFloorArea, with a standard diviation of 2.40680752854744\nTotalFloorArea, has 123748 empty cells\n"
    }
   ],
   "source": [
    "#Finding exact conversion between Area and TotalFloorArea\n",
    "print(\"Area is\", (data_df.Area / data_df.TotalFloorArea).mean(), \"times bigger than TotalFloorArea, with a standard diviation of\", (data_df.Area / data_df.TotalFloorArea).std())\n",
    "print(\"TotalFloorArea, has\", (data_df.TotalFloorArea.isna().sum()), \"empty cells\")\n",
    "\n",
    "#We repleace with 2.26xArea for missing values\n",
    "data_df.TotalFloorArea = data_df.TotalFloorArea.fillna(data_df.Area*2.26)"
   ]
  },
  {
   "cell_type": "markdown",
   "metadata": {},
   "source": [
    "Dataleakage\n",
    "-"
   ]
  },
  {
   "cell_type": "code",
   "execution_count": 10,
   "metadata": {},
   "outputs": [],
   "source": [
    "#PricePerTsubo is directly related to Price and is therefore a DataLeakage source which must be removed\n",
    "del data_df['PricePerTsubo']\n"
   ]
  },
  {
   "cell_type": "code",
   "execution_count": 11,
   "metadata": {
    "tags": []
   },
   "outputs": [
    {
     "output_type": "stream",
     "name": "stdout",
     "text": "AreaIsGreaterFlag is a bool, the avg val is 0.12009364361730689 ie. 87.99063563826931 % values are False\nArea is an int, the fraction of observations not equal to zero is 1.0\n"
    }
   ],
   "source": [
    "# Testing Area vs AreaIsGreaterFlag \n",
    "print(\"AreaIsGreaterFlag is a bool, the avg val is\",data_df.AreaIsGreaterFlag.mean(), \"ie.\", (1-data_df.AreaIsGreaterFlag.mean())*100, \"% values are False\")\n",
    "print(\"Area is an int, the fraction of observations not equal to zero is\",data_df.Area.notnull().mean())\n",
    "\n",
    "#AreaIsGreaterFlag is kept"
   ]
  },
  {
   "cell_type": "markdown",
   "metadata": {},
   "source": [
    "Sorting strings and numbers\n",
    "-"
   ]
  },
  {
   "cell_type": "code",
   "execution_count": 12,
   "metadata": {
    "tags": []
   },
   "outputs": [
    {
     "output_type": "stream",
     "name": "stdout",
     "text": "Listed Categorical variables and Cardinity\n"
    },
    {
     "output_type": "execute_result",
     "data": {
      "text/plain": "[('Renovation', 3),\n ('Region', 4),\n ('Type', 5),\n ('Purpose', 6),\n ('LandShape', 9),\n ('Direction', 9),\n ('Classification', 14),\n ('CityPlanning', 16),\n ('Remarks', 18),\n ('Structure', 22),\n ('FloorPlan', 27),\n ('Use', 115),\n ('NearestStation', 461),\n ('DistrictName', 4641)]"
     },
     "metadata": {},
     "execution_count": 12
    }
   ],
   "source": [
    "# Investigating \"Cardinality\" \n",
    "object_cols = [cname for cname in data_df.columns if data_df[cname].dtype == \"object\"]\n",
    "\n",
    "# Get number of unique entries in each column with categorical data\n",
    "object_nunique = list(map(lambda col: data_df[col].nunique(), object_cols))\n",
    "d = dict(zip(object_cols, object_nunique))\n",
    "\n",
    "# Print number of unique entries by column, in ascending order\n",
    "print(\"Listed Categorical variables and Cardinity\")\n",
    "sorted(d.items(), key=lambda x: x[1])"
   ]
  },
  {
   "cell_type": "code",
   "execution_count": 13,
   "metadata": {
    "tags": []
   },
   "outputs": [],
   "source": [
    "# As the cardinality spans from 2 to more than 4500 we cannot use HotPot imputation for all strings - therefor we divide at cardinality > 10\n",
    "low_cardinality_cols = [cname for cname in data_df.columns if data_df[cname].nunique() < 10 and data_df[cname].dtype == \"object\"]\n",
    "\n",
    "high_cardinality_cols = [cname for cname in data_df.columns if data_df[cname].nunique() > 10 and data_df[cname].dtype == \"object\"]\n",
    "\n",
    "# Numericalcolumns\n",
    "numerical_cols = [cname for cname in data_df.columns if data_df[cname].dtype in ['int64', 'float64']]\n",
    "\n",
    "# Keep selected columns only\n",
    "my_cols = low_cardinality_cols + high_cardinality_cols + numerical_cols\n",
    "data_v1 = data_df[my_cols].copy()"
   ]
  },
  {
   "cell_type": "code",
   "execution_count": 14,
   "metadata": {
    "tags": []
   },
   "outputs": [
    {
     "output_type": "stream",
     "name": "stdout",
     "text": "<class 'pandas.core.frame.DataFrame'>\nInt64Index: 186238 entries, 1 to 186238\nData columns (total 29 columns):\n #   Column                   Non-Null Count   Dtype  \n---  ------                   --------------   -----  \n 0   Type                     186238 non-null  object \n 1   Region                   133069 non-null  object \n 2   LandShape                132674 non-null  object \n 3   Purpose                  56882 non-null   object \n 4   Direction                132631 non-null  object \n 5   Renovation               186238 non-null  object \n 6   DistrictName             183567 non-null  object \n 7   NearestStation           145929 non-null  object \n 8   FloorPlan                186238 non-null  object \n 9   Structure                81430 non-null   object \n 10  Use                      81249 non-null   object \n 11  Classification           129636 non-null  object \n 12  CityPlanning             152003 non-null  object \n 13  Remarks                  186238 non-null  object \n 14  MunicipalityCode         186238 non-null  int64  \n 15  MinTimeToNearestStation  144490 non-null  float64\n 16  TradePrice               186238 non-null  int64  \n 17  Area                     186238 non-null  int64  \n 18  AreaIsGreaterFlag        186238 non-null  int64  \n 19  UnitPrice                66260 non-null   float64\n 20  Frontage                 125257 non-null  float64\n 21  TotalFloorArea           186238 non-null  float64\n 22  BuildingYear             81078 non-null   float64\n 23  PrewarBuilding           186238 non-null  int64  \n 24  Breadth                  128012 non-null  float64\n 25  CoverageRatio            140562 non-null  float64\n 26  FloorAreaRatio           140562 non-null  float64\n 27  Year                     186238 non-null  int64  \n 28  Quarter                  186238 non-null  int64  \ndtypes: float64(8), int64(7), object(14)\nmemory usage: 42.6+ MB\nNone\n"
    }
   ],
   "source": [
    "\n",
    "print(data_v1.info())"
   ]
  },
  {
   "cell_type": "code",
   "execution_count": null,
   "metadata": {},
   "outputs": [],
   "source": []
  }
 ],
 "metadata": {
  "language_info": {
   "codemirror_mode": {
    "name": "ipython",
    "version": 3
   },
   "file_extension": ".py",
   "mimetype": "text/x-python",
   "name": "python",
   "nbconvert_exporter": "python",
   "pygments_lexer": "ipython3",
   "version": "3.7.6-final"
  },
  "orig_nbformat": 2,
  "kernelspec": {
   "name": "python37664bitbaseconda8323ff0e61ae4a6b8857dd46a341f977",
   "display_name": "Python 3.7.6 64-bit ('base': conda)"
  }
 },
 "nbformat": 4,
 "nbformat_minor": 2
}